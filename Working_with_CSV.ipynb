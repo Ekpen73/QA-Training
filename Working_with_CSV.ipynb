{
 "cells": [
  {
   "cell_type": "code",
   "execution_count": 1,
   "metadata": {},
   "outputs": [
    {
     "name": "stdout",
     "output_type": "stream",
     "text": [
      "['hello world', 2.0, 3, 42, False]\n"
     ]
    }
   ],
   "source": [
    "ls = [ 'hello world', 2., 3, 42, False]\n",
    "print(ls)"
   ]
  },
  {
   "cell_type": "code",
   "execution_count": 2,
   "metadata": {},
   "outputs": [
    {
     "name": "stdout",
     "output_type": "stream",
     "text": [
      "('hello world', 2.0, 3, 42, False)\n",
      "hello world\n"
     ]
    }
   ],
   "source": [
    "tp = ('hello world', 2., 3, 42, False)\n",
    "print(tp)\n",
    "print(tp[0])"
   ]
  },
  {
   "cell_type": "code",
   "execution_count": 5,
   "metadata": {},
   "outputs": [
    {
     "data": {
      "text/plain": [
       "{'a': [10, 20, 30], 'b': 42}"
      ]
     },
     "execution_count": 5,
     "metadata": {},
     "output_type": "execute_result"
    }
   ],
   "source": [
    "dct = {'a': [10,20,30], 'b': 42 }\n",
    "dct"
   ]
  },
  {
   "cell_type": "code",
   "execution_count": 4,
   "metadata": {},
   "outputs": [
    {
     "data": {
      "text/plain": [
       "{'a': [10, 20, 30], 'b': 42}"
      ]
     },
     "execution_count": 4,
     "metadata": {},
     "output_type": "execute_result"
    }
   ],
   "source": [
    "dct"
   ]
  },
  {
   "cell_type": "code",
   "execution_count": 7,
   "metadata": {},
   "outputs": [
    {
     "data": {
      "text/html": [
       "<div>\n",
       "<style scoped>\n",
       "    .dataframe tbody tr th:only-of-type {\n",
       "        vertical-align: middle;\n",
       "    }\n",
       "\n",
       "    .dataframe tbody tr th {\n",
       "        vertical-align: top;\n",
       "    }\n",
       "\n",
       "    .dataframe thead th {\n",
       "        text-align: right;\n",
       "    }\n",
       "</style>\n",
       "<table border=\"1\" class=\"dataframe\">\n",
       "  <thead>\n",
       "    <tr style=\"text-align: right;\">\n",
       "      <th></th>\n",
       "      <th>id</th>\n",
       "      <th>diagnosis</th>\n",
       "      <th>radius_mean</th>\n",
       "      <th>texture_mean</th>\n",
       "      <th>perimeter_mean</th>\n",
       "      <th>area_mean</th>\n",
       "      <th>smoothness_mean</th>\n",
       "      <th>compactness_mean</th>\n",
       "      <th>concavity_mean</th>\n",
       "      <th>concave points_mean</th>\n",
       "      <th>...</th>\n",
       "      <th>texture_worst</th>\n",
       "      <th>perimeter_worst</th>\n",
       "      <th>area_worst</th>\n",
       "      <th>smoothness_worst</th>\n",
       "      <th>compactness_worst</th>\n",
       "      <th>concavity_worst</th>\n",
       "      <th>concave points_worst</th>\n",
       "      <th>symmetry_worst</th>\n",
       "      <th>fractal_dimension_worst</th>\n",
       "      <th>Unnamed: 32</th>\n",
       "    </tr>\n",
       "  </thead>\n",
       "  <tbody>\n",
       "    <tr>\n",
       "      <th>566</th>\n",
       "      <td>926954</td>\n",
       "      <td>M</td>\n",
       "      <td>16.60</td>\n",
       "      <td>28.08</td>\n",
       "      <td>108.30</td>\n",
       "      <td>858.1</td>\n",
       "      <td>0.08455</td>\n",
       "      <td>0.10230</td>\n",
       "      <td>0.09251</td>\n",
       "      <td>0.05302</td>\n",
       "      <td>...</td>\n",
       "      <td>34.12</td>\n",
       "      <td>126.70</td>\n",
       "      <td>1124.0</td>\n",
       "      <td>0.11390</td>\n",
       "      <td>0.30940</td>\n",
       "      <td>0.3403</td>\n",
       "      <td>0.1418</td>\n",
       "      <td>0.2218</td>\n",
       "      <td>0.07820</td>\n",
       "      <td>NaN</td>\n",
       "    </tr>\n",
       "    <tr>\n",
       "      <th>567</th>\n",
       "      <td>927241</td>\n",
       "      <td>M</td>\n",
       "      <td>20.60</td>\n",
       "      <td>29.33</td>\n",
       "      <td>140.10</td>\n",
       "      <td>1265.0</td>\n",
       "      <td>0.11780</td>\n",
       "      <td>0.27700</td>\n",
       "      <td>0.35140</td>\n",
       "      <td>0.15200</td>\n",
       "      <td>...</td>\n",
       "      <td>39.42</td>\n",
       "      <td>184.60</td>\n",
       "      <td>1821.0</td>\n",
       "      <td>0.16500</td>\n",
       "      <td>0.86810</td>\n",
       "      <td>0.9387</td>\n",
       "      <td>0.2650</td>\n",
       "      <td>0.4087</td>\n",
       "      <td>0.12400</td>\n",
       "      <td>NaN</td>\n",
       "    </tr>\n",
       "    <tr>\n",
       "      <th>568</th>\n",
       "      <td>92751</td>\n",
       "      <td>B</td>\n",
       "      <td>7.76</td>\n",
       "      <td>24.54</td>\n",
       "      <td>47.92</td>\n",
       "      <td>181.0</td>\n",
       "      <td>0.05263</td>\n",
       "      <td>0.04362</td>\n",
       "      <td>0.00000</td>\n",
       "      <td>0.00000</td>\n",
       "      <td>...</td>\n",
       "      <td>30.37</td>\n",
       "      <td>59.16</td>\n",
       "      <td>268.6</td>\n",
       "      <td>0.08996</td>\n",
       "      <td>0.06444</td>\n",
       "      <td>0.0000</td>\n",
       "      <td>0.0000</td>\n",
       "      <td>0.2871</td>\n",
       "      <td>0.07039</td>\n",
       "      <td>NaN</td>\n",
       "    </tr>\n",
       "  </tbody>\n",
       "</table>\n",
       "<p>3 rows × 33 columns</p>\n",
       "</div>"
      ],
      "text/plain": [
       "         id diagnosis  radius_mean  texture_mean  perimeter_mean  area_mean  \\\n",
       "566  926954         M        16.60         28.08          108.30      858.1   \n",
       "567  927241         M        20.60         29.33          140.10     1265.0   \n",
       "568   92751         B         7.76         24.54           47.92      181.0   \n",
       "\n",
       "     smoothness_mean  compactness_mean  concavity_mean  concave points_mean  \\\n",
       "566          0.08455           0.10230         0.09251              0.05302   \n",
       "567          0.11780           0.27700         0.35140              0.15200   \n",
       "568          0.05263           0.04362         0.00000              0.00000   \n",
       "\n",
       "     ...  texture_worst  perimeter_worst  area_worst  smoothness_worst  \\\n",
       "566  ...          34.12           126.70      1124.0           0.11390   \n",
       "567  ...          39.42           184.60      1821.0           0.16500   \n",
       "568  ...          30.37            59.16       268.6           0.08996   \n",
       "\n",
       "     compactness_worst  concavity_worst  concave points_worst  symmetry_worst  \\\n",
       "566            0.30940           0.3403                0.1418          0.2218   \n",
       "567            0.86810           0.9387                0.2650          0.4087   \n",
       "568            0.06444           0.0000                0.0000          0.2871   \n",
       "\n",
       "     fractal_dimension_worst  Unnamed: 32  \n",
       "566                  0.07820          NaN  \n",
       "567                  0.12400          NaN  \n",
       "568                  0.07039          NaN  \n",
       "\n",
       "[3 rows x 33 columns]"
      ]
     },
     "execution_count": 7,
     "metadata": {},
     "output_type": "execute_result"
    }
   ],
   "source": [
    "import pandas as pd \n",
    "fl = pd.read_csv('https://raw.githubusercontent.com/a-forty-two/cylons/master/data.csv', header=0)\n",
    "# print the top of file\n",
    "fl.head()\n",
    "# fl.head(10) -> first 10 elements \n",
    "# bottom\n",
    "fl.tail() #-> bottom 5 elements \n",
    "fl.tail(3)# -> last 3 elements \n"
   ]
  },
  {
   "cell_type": "code",
   "execution_count": 11,
   "metadata": {
    "jupyter": {
     "source_hidden": true
    }
   },
   "outputs": [
    {
     "name": "stdout",
     "output_type": "stream",
     "text": [
      "842302\n"
     ]
    },
    {
     "data": {
      "text/plain": [
       "id                           842302\n",
       "diagnosis                         M\n",
       "radius_mean                   17.99\n",
       "texture_mean                  10.38\n",
       "perimeter_mean                122.8\n",
       "area_mean                      1001\n",
       "smoothness_mean              0.1184\n",
       "compactness_mean             0.2776\n",
       "concavity_mean               0.3001\n",
       "concave points_mean          0.1471\n",
       "symmetry_mean                0.2419\n",
       "fractal_dimension_mean      0.07871\n",
       "radius_se                     1.095\n",
       "texture_se                   0.9053\n",
       "perimeter_se                  8.589\n",
       "area_se                       153.4\n",
       "smoothness_se              0.006399\n",
       "compactness_se              0.04904\n",
       "concavity_se                0.05373\n",
       "concave points_se           0.01587\n",
       "symmetry_se                 0.03003\n",
       "fractal_dimension_se       0.006193\n",
       "radius_worst                  25.38\n",
       "texture_worst                 17.33\n",
       "perimeter_worst               184.6\n",
       "area_worst                     2019\n",
       "smoothness_worst             0.1622\n",
       "compactness_worst            0.6656\n",
       "concavity_worst              0.7119\n",
       "concave points_worst         0.2654\n",
       "symmetry_worst               0.4601\n",
       "fractal_dimension_worst      0.1189\n",
       "Unnamed: 32                     NaN\n",
       "Name: 0, dtype: object"
      ]
     },
     "execution_count": 11,
     "metadata": {},
     "output_type": "execute_result"
    }
   ],
   "source": [
    "# LOC and iLOC \n",
    "# LOCATION and INDEX of LOCATION \n",
    "# location works with name, index works with position (number)\n",
    "\n",
    "# [row selection, column selection]\n",
    "# This can be a range or a list -> 2nd to 3rd last element is a range,\n",
    "# but [smoothness_mean, concavity_mean] is a list\n",
    "\n",
    "print(fl.iloc[0,0]) # ELEMENT level selection \n",
    "fl.iloc[0,:] # FIRST row, ALL columns"
   ]
  },
  {
   "cell_type": "code",
   "execution_count": 19,
   "metadata": {},
   "outputs": [],
   "source": [
    "# ITERATION is used when we need to generate Series of data\n",
    "# SIMULATION activities or when data is impossible to gather but not impossible to calculate\n",
    "# FISSURES of surface of sun -> impossible to gather \n",
    "# COST, time \n",
    "# CAN be used to handle MISSING data BUT NOT RECOMMENDED \n",
    "# FIBONACCI \n",
    "# Number -> sum of prev 2 numbers \n",
    "# -1 and +1 -> these generators generate sequences of fibonaccis \n",
    "\n",
    "#1 2 3 4 5 .... \n",
    "# __init__ <- this acts LIKE a CONSTRUCTOR \n",
    "\n",
    "class Numbers:\n",
    "    def __init__(this, x,y):\n",
    "        this.n1 = x**2\n",
    "        this.n2 = y**2\n",
    "    def x2plusy2(this):\n",
    "        finalSum = this.n1 + this.n2\n",
    "        return finalSum \n",
    "\n",
    "class natural:\n",
    "    def __iter__(this):\n",
    "        this.start = 1\n",
    "        return this # return entire initial seed object\n",
    "    def __next__(this):\n",
    "        x = this.start + 1 # calculated the next no. of series\n",
    "        this.start = x # update for next iteration \n",
    "        return x # return the propagation result only"
   ]
  },
  {
   "cell_type": "code",
   "execution_count": 23,
   "metadata": {},
   "outputs": [
    {
     "name": "stdout",
     "output_type": "stream",
     "text": [
      "0\n",
      "1\n",
      "1\n",
      "2\n",
      "3\n",
      "5\n",
      "8\n",
      "13\n",
      "21\n",
      "34\n",
      "55\n",
      "89\n",
      "144\n",
      "233\n",
      "377\n",
      "610\n",
      "987\n",
      "1597\n",
      "2584\n",
      "4181\n"
     ]
    }
   ],
   "source": [
    "class FiboGen:\n",
    "    def __iter__(this): # SEED function, FIRST numbers to use \n",
    "    # initialize the seeds of series here\n",
    "        this.n1 = -1\n",
    "        this.n2 = 1\n",
    "        this.n3 = None\n",
    "        return this # return the seed object\n",
    "    def __next__(this): # Propagation function \n",
    "        this.n3 = this.n1 + this.n2 \n",
    "        this.n1 = this.n2\n",
    "        this.n2 = this.n3 \n",
    "        #this.n3 = this.n1 + this.n2 \n",
    "    \n",
    "        return this.n3# return the next element of prop \n",
    "\n",
    "prop = FiboGen()\n",
    "pointer_to_prop = iter(prop) #an iterator object \n",
    "# iter executes the seed function, next executes the propagation function \n",
    "\n",
    "for i in range(20):\n",
    "    print(next(pointer_to_prop))\n",
    "\n",
    "# PLEASE resume by 12  \n",
    "# On mute, any questions-> please type in chat window"
   ]
  },
  {
   "cell_type": "code",
   "execution_count": null,
   "metadata": {},
   "outputs": [],
   "source": [
    "def sum():\n",
    "    return 0\n",
    "\n",
    "sum"
   ]
  },
  {
   "cell_type": "code",
   "execution_count": null,
   "metadata": {},
   "outputs": [],
   "source": []
  }
 ],
 "metadata": {
  "kernelspec": {
   "display_name": "Python 3",
   "language": "python",
   "name": "python3"
  },
  "language_info": {
   "codemirror_mode": {
    "name": "ipython",
    "version": 3
   },
   "file_extension": ".py",
   "mimetype": "text/x-python",
   "name": "python",
   "nbconvert_exporter": "python",
   "pygments_lexer": "ipython3",
   "version": "3.8.5"
  }
 },
 "nbformat": 4,
 "nbformat_minor": 4
}
