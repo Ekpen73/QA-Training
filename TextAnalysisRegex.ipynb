{
  "nbformat": 4,
  "nbformat_minor": 0,
  "metadata": {
    "celltoolbar": "Slideshow",
    "kernelspec": {
      "display_name": "Python 3",
      "language": "python",
      "name": "python3"
    },
    "language_info": {
      "codemirror_mode": {
        "name": "ipython",
        "version": 3
      },
      "file_extension": ".py",
      "mimetype": "text/x-python",
      "name": "python",
      "nbconvert_exporter": "python",
      "pygments_lexer": "ipython3",
      "version": "3.7.4"
    },
    "colab": {
      "name": "04 - TextAnalysisRegex.ipynb",
      "provenance": [],
      "include_colab_link": true
    }
  },
  "cells": [
    {
      "cell_type": "markdown",
      "metadata": {
        "id": "view-in-github",
        "colab_type": "text"
      },
      "source": [
        "<a href=\"https://colab.research.google.com/github/Ekpen73/QA-Training/blob/main/TextAnalysisRegex.ipynb\" target=\"_parent\"><img src=\"https://colab.research.google.com/assets/colab-badge.svg\" alt=\"Open In Colab\"/></a>"
      ]
    },
    {
      "cell_type": "markdown",
      "metadata": {
        "id": "z4ipUQCtNI7c"
      },
      "source": [
        "# Exploratory Text Analysis\n",
        "\n",
        "## What kinds of text analysis are there?\n",
        "\n",
        "* analyst knows the pattern\n",
        "    * regular expressions\n",
        "* analyst does not know the pattern\n",
        "    * natural language processing\n",
        "        * compares historical examples to judge novel cases\n",
        "            * comparisons are statistical and approximate\n",
        "            "
      ]
    },
    {
      "cell_type": "markdown",
      "metadata": {
        "id": "mXvTXdMONI7p"
      },
      "source": [
        "### Examples of Analysis"
      ]
    },
    {
      "cell_type": "markdown",
      "metadata": {
        "id": "EptHNrJ-NI7s"
      },
      "source": [
        "When you know the pattern:"
      ]
    },
    {
      "cell_type": "code",
      "metadata": {
        "id": "YP9sLurCNI7t"
      },
      "source": [
        "pattern = '£ ?[0-9][0-9]?' # £ then SPACE-optional then digit then digit-optional \n",
        "\n",
        "document = 'My eggs cost £3, bread cost £2, vodka cost £35'"
      ],
      "execution_count": 1,
      "outputs": []
    },
    {
      "cell_type": "code",
      "metadata": {
        "id": "5-eq098MNI7x"
      },
      "source": [
        "import re"
      ],
      "execution_count": 2,
      "outputs": []
    },
    {
      "cell_type": "code",
      "metadata": {
        "id": "UBgPKqkyNI7z",
        "outputId": "5e2c8fce-5045-4058-99c2-972f9a270810",
        "colab": {
          "base_uri": "https://localhost:8080/"
        }
      },
      "source": [
        "re.findall(pattern, document)"
      ],
      "execution_count": 3,
      "outputs": [
        {
          "output_type": "execute_result",
          "data": {
            "text/plain": [
              "['£3', '£2', '£35']"
            ]
          },
          "metadata": {},
          "execution_count": 3
        }
      ]
    },
    {
      "cell_type": "markdown",
      "metadata": {
        "id": "I3jlpnFGNI70"
      },
      "source": [
        "If you dont:\n",
        "\n",
        "* sentiment analysis\n",
        "    * how positive/negative is this (new) review?\n",
        "* topic analysis \n",
        "    * what is this document about?"
      ]
    },
    {
      "cell_type": "markdown",
      "metadata": {
        "id": "wt8TWnlHNI73"
      },
      "source": [
        "## What can I do if I know what pattern I want to find?\n",
        "\n",
        "* finding (\"extracting\")\n",
        "    * what matches the pattern?\n",
        "* matching (\"validating\")\n",
        "    * does the entire document match YES/NO?\n",
        "* substitue (\"replacing\")\n",
        "    * replace a part that matches a pattern with another..."
      ]
    },
    {
      "cell_type": "markdown",
      "metadata": {
        "id": "CHS1WgC4NI75"
      },
      "source": [
        "## How do I validate text with pandas?"
      ]
    },
    {
      "cell_type": "code",
      "metadata": {
        "id": "RVucml2FNI76"
      },
      "source": [
        "import pandas as pd"
      ],
      "execution_count": 4,
      "outputs": []
    },
    {
      "cell_type": "code",
      "metadata": {
        "id": "kg4JvCX4UJ_U",
        "outputId": "6f418745-17a7-4619-f55d-6d783de64de3",
        "colab": {
          "base_uri": "https://localhost:8080/",
          "height": 81
        }
      },
      "source": [
        "df=pd.read_csv('titanic.csv')\n",
        "df.sample(1)"
      ],
      "execution_count": 8,
      "outputs": [
        {
          "output_type": "execute_result",
          "data": {
            "text/html": [
              "<div>\n",
              "<style scoped>\n",
              "    .dataframe tbody tr th:only-of-type {\n",
              "        vertical-align: middle;\n",
              "    }\n",
              "\n",
              "    .dataframe tbody tr th {\n",
              "        vertical-align: top;\n",
              "    }\n",
              "\n",
              "    .dataframe thead th {\n",
              "        text-align: right;\n",
              "    }\n",
              "</style>\n",
              "<table border=\"1\" class=\"dataframe\">\n",
              "  <thead>\n",
              "    <tr style=\"text-align: right;\">\n",
              "      <th></th>\n",
              "      <th>survived</th>\n",
              "      <th>pclass</th>\n",
              "      <th>sex</th>\n",
              "      <th>age</th>\n",
              "      <th>sibsp</th>\n",
              "      <th>parch</th>\n",
              "      <th>fare</th>\n",
              "      <th>embarked</th>\n",
              "      <th>class</th>\n",
              "      <th>who</th>\n",
              "      <th>adult_male</th>\n",
              "      <th>deck</th>\n",
              "      <th>embark_town</th>\n",
              "      <th>alive</th>\n",
              "      <th>alone</th>\n",
              "    </tr>\n",
              "  </thead>\n",
              "  <tbody>\n",
              "    <tr>\n",
              "      <th>587</th>\n",
              "      <td>1</td>\n",
              "      <td>1</td>\n",
              "      <td>male</td>\n",
              "      <td>60.0</td>\n",
              "      <td>1</td>\n",
              "      <td>1</td>\n",
              "      <td>79.2</td>\n",
              "      <td>C</td>\n",
              "      <td>First</td>\n",
              "      <td>man</td>\n",
              "      <td>True</td>\n",
              "      <td>B</td>\n",
              "      <td>Cherbourg</td>\n",
              "      <td>yes</td>\n",
              "      <td>False</td>\n",
              "    </tr>\n",
              "  </tbody>\n",
              "</table>\n",
              "</div>"
            ],
            "text/plain": [
              "     survived  pclass   sex   age  ...  deck  embark_town  alive  alone\n",
              "587         1       1  male  60.0  ...     B    Cherbourg    yes  False\n",
              "\n",
              "[1 rows x 15 columns]"
            ]
          },
          "metadata": {},
          "execution_count": 8
        }
      ]
    },
    {
      "cell_type": "code",
      "metadata": {
        "id": "TadnDtfbgWjU",
        "outputId": "2f49139a-bc10-498b-d579-962d632db572",
        "colab": {
          "base_uri": "https://localhost:8080/",
          "height": 293
        }
      },
      "source": [
        "df.head(5)"
      ],
      "execution_count": 21,
      "outputs": [
        {
          "output_type": "execute_result",
          "data": {
            "text/html": [
              "<div>\n",
              "<style scoped>\n",
              "    .dataframe tbody tr th:only-of-type {\n",
              "        vertical-align: middle;\n",
              "    }\n",
              "\n",
              "    .dataframe tbody tr th {\n",
              "        vertical-align: top;\n",
              "    }\n",
              "\n",
              "    .dataframe thead th {\n",
              "        text-align: right;\n",
              "    }\n",
              "</style>\n",
              "<table border=\"1\" class=\"dataframe\">\n",
              "  <thead>\n",
              "    <tr style=\"text-align: right;\">\n",
              "      <th></th>\n",
              "      <th>survived</th>\n",
              "      <th>pclass</th>\n",
              "      <th>sex</th>\n",
              "      <th>age</th>\n",
              "      <th>sibsp</th>\n",
              "      <th>parch</th>\n",
              "      <th>fare</th>\n",
              "      <th>embarked</th>\n",
              "      <th>class</th>\n",
              "      <th>who</th>\n",
              "      <th>adult_male</th>\n",
              "      <th>deck</th>\n",
              "      <th>embark_town</th>\n",
              "      <th>alive</th>\n",
              "      <th>alone</th>\n",
              "      <th>ticket</th>\n",
              "    </tr>\n",
              "  </thead>\n",
              "  <tbody>\n",
              "    <tr>\n",
              "      <th>0</th>\n",
              "      <td>0</td>\n",
              "      <td>3</td>\n",
              "      <td>male</td>\n",
              "      <td>22.0</td>\n",
              "      <td>1</td>\n",
              "      <td>0</td>\n",
              "      <td>7.2500</td>\n",
              "      <td>S</td>\n",
              "      <td>Third</td>\n",
              "      <td>man</td>\n",
              "      <td>True</td>\n",
              "      <td>NaN</td>\n",
              "      <td>Southampton</td>\n",
              "      <td>no</td>\n",
              "      <td>False</td>\n",
              "      <td>Ticket: Third; Price: $ 7.25; Port: Southampton;</td>\n",
              "    </tr>\n",
              "    <tr>\n",
              "      <th>1</th>\n",
              "      <td>1</td>\n",
              "      <td>1</td>\n",
              "      <td>female</td>\n",
              "      <td>38.0</td>\n",
              "      <td>1</td>\n",
              "      <td>0</td>\n",
              "      <td>71.2833</td>\n",
              "      <td>C</td>\n",
              "      <td>First</td>\n",
              "      <td>woman</td>\n",
              "      <td>False</td>\n",
              "      <td>C</td>\n",
              "      <td>Cherbourg</td>\n",
              "      <td>yes</td>\n",
              "      <td>False</td>\n",
              "      <td>Ticket: First; Price: $ 71.2833; Port: Cherbourg;</td>\n",
              "    </tr>\n",
              "    <tr>\n",
              "      <th>2</th>\n",
              "      <td>1</td>\n",
              "      <td>3</td>\n",
              "      <td>female</td>\n",
              "      <td>26.0</td>\n",
              "      <td>0</td>\n",
              "      <td>0</td>\n",
              "      <td>7.9250</td>\n",
              "      <td>S</td>\n",
              "      <td>Third</td>\n",
              "      <td>woman</td>\n",
              "      <td>False</td>\n",
              "      <td>NaN</td>\n",
              "      <td>Southampton</td>\n",
              "      <td>yes</td>\n",
              "      <td>True</td>\n",
              "      <td>Ticket: Third; Price: $ 7.925; Port: Southampton;</td>\n",
              "    </tr>\n",
              "    <tr>\n",
              "      <th>3</th>\n",
              "      <td>1</td>\n",
              "      <td>1</td>\n",
              "      <td>female</td>\n",
              "      <td>35.0</td>\n",
              "      <td>1</td>\n",
              "      <td>0</td>\n",
              "      <td>53.1000</td>\n",
              "      <td>S</td>\n",
              "      <td>First</td>\n",
              "      <td>woman</td>\n",
              "      <td>False</td>\n",
              "      <td>C</td>\n",
              "      <td>Southampton</td>\n",
              "      <td>yes</td>\n",
              "      <td>False</td>\n",
              "      <td>Ticket: First; Price: $ 53.1; Port: Southampton;</td>\n",
              "    </tr>\n",
              "    <tr>\n",
              "      <th>4</th>\n",
              "      <td>0</td>\n",
              "      <td>3</td>\n",
              "      <td>male</td>\n",
              "      <td>35.0</td>\n",
              "      <td>0</td>\n",
              "      <td>0</td>\n",
              "      <td>8.0500</td>\n",
              "      <td>S</td>\n",
              "      <td>Third</td>\n",
              "      <td>man</td>\n",
              "      <td>True</td>\n",
              "      <td>NaN</td>\n",
              "      <td>Southampton</td>\n",
              "      <td>no</td>\n",
              "      <td>True</td>\n",
              "      <td>Ticket: Third; Price: $ 8.05; Port: Southampton;</td>\n",
              "    </tr>\n",
              "  </tbody>\n",
              "</table>\n",
              "</div>"
            ],
            "text/plain": [
              "   survived  pclass  ...  alone                                             ticket\n",
              "0         0       3  ...  False   Ticket: Third; Price: $ 7.25; Port: Southampton;\n",
              "1         1       1  ...  False  Ticket: First; Price: $ 71.2833; Port: Cherbourg;\n",
              "2         1       3  ...   True  Ticket: Third; Price: $ 7.925; Port: Southampton;\n",
              "3         1       1  ...  False   Ticket: First; Price: $ 53.1; Port: Southampton;\n",
              "4         0       3  ...   True   Ticket: Third; Price: $ 8.05; Port: Southampton;\n",
              "\n",
              "[5 rows x 16 columns]"
            ]
          },
          "metadata": {},
          "execution_count": 21
        }
      ]
    },
    {
      "cell_type": "code",
      "metadata": {
        "id": "duu7ul1DUbPe"
      },
      "source": [
        "df['ticket']= \"Ticket: \" + df['class'] + \"; Price: $ \" + df['fare'].astype(str) + \"; Port: \" + df['embark_town'] + \";\""
      ],
      "execution_count": 9,
      "outputs": []
    },
    {
      "cell_type": "code",
      "metadata": {
        "id": "kNKwEXcKUa7f",
        "outputId": "29993876-173b-42fe-8889-73e448aabaf1",
        "colab": {
          "base_uri": "https://localhost:8080/"
        }
      },
      "source": [
        "df['ticket']"
      ],
      "execution_count": 10,
      "outputs": [
        {
          "output_type": "execute_result",
          "data": {
            "text/plain": [
              "0       Ticket: Third; Price: $ 7.25; Port: Southampton;\n",
              "1      Ticket: First; Price: $ 71.2833; Port: Cherbourg;\n",
              "2      Ticket: Third; Price: $ 7.925; Port: Southampton;\n",
              "3       Ticket: First; Price: $ 53.1; Port: Southampton;\n",
              "4       Ticket: Third; Price: $ 8.05; Port: Southampton;\n",
              "                             ...                        \n",
              "886    Ticket: Second; Price: $ 13.0; Port: Southampton;\n",
              "887     Ticket: First; Price: $ 30.0; Port: Southampton;\n",
              "888    Ticket: Third; Price: $ 23.45; Port: Southampton;\n",
              "889       Ticket: First; Price: $ 30.0; Port: Cherbourg;\n",
              "890      Ticket: Third; Price: $ 7.75; Port: Queenstown;\n",
              "Name: ticket, Length: 891, dtype: object"
            ]
          },
          "metadata": {},
          "execution_count": 10
        }
      ]
    },
    {
      "cell_type": "code",
      "metadata": {
        "id": "Ue7xb_isWBTA",
        "outputId": "82c6b405-040f-4c7a-d092-bd035d52a08d",
        "colab": {
          "base_uri": "https://localhost:8080/",
          "height": 143
        }
      },
      "source": [
        "df[['class', 'fare', 'embark_town', 'ticket']].head(3)"
      ],
      "execution_count": 11,
      "outputs": [
        {
          "output_type": "execute_result",
          "data": {
            "text/html": [
              "<div>\n",
              "<style scoped>\n",
              "    .dataframe tbody tr th:only-of-type {\n",
              "        vertical-align: middle;\n",
              "    }\n",
              "\n",
              "    .dataframe tbody tr th {\n",
              "        vertical-align: top;\n",
              "    }\n",
              "\n",
              "    .dataframe thead th {\n",
              "        text-align: right;\n",
              "    }\n",
              "</style>\n",
              "<table border=\"1\" class=\"dataframe\">\n",
              "  <thead>\n",
              "    <tr style=\"text-align: right;\">\n",
              "      <th></th>\n",
              "      <th>class</th>\n",
              "      <th>fare</th>\n",
              "      <th>embark_town</th>\n",
              "      <th>ticket</th>\n",
              "    </tr>\n",
              "  </thead>\n",
              "  <tbody>\n",
              "    <tr>\n",
              "      <th>0</th>\n",
              "      <td>Third</td>\n",
              "      <td>7.2500</td>\n",
              "      <td>Southampton</td>\n",
              "      <td>Ticket: Third; Price: $ 7.25; Port: Southampton;</td>\n",
              "    </tr>\n",
              "    <tr>\n",
              "      <th>1</th>\n",
              "      <td>First</td>\n",
              "      <td>71.2833</td>\n",
              "      <td>Cherbourg</td>\n",
              "      <td>Ticket: First; Price: $ 71.2833; Port: Cherbourg;</td>\n",
              "    </tr>\n",
              "    <tr>\n",
              "      <th>2</th>\n",
              "      <td>Third</td>\n",
              "      <td>7.9250</td>\n",
              "      <td>Southampton</td>\n",
              "      <td>Ticket: Third; Price: $ 7.925; Port: Southampton;</td>\n",
              "    </tr>\n",
              "  </tbody>\n",
              "</table>\n",
              "</div>"
            ],
            "text/plain": [
              "   class  ...                                             ticket\n",
              "0  Third  ...   Ticket: Third; Price: $ 7.25; Port: Southampton;\n",
              "1  First  ...  Ticket: First; Price: $ 71.2833; Port: Cherbourg;\n",
              "2  Third  ...  Ticket: Third; Price: $ 7.925; Port: Southampton;\n",
              "\n",
              "[3 rows x 4 columns]"
            ]
          },
          "metadata": {},
          "execution_count": 11
        }
      ]
    },
    {
      "cell_type": "code",
      "metadata": {
        "id": "C9uHGvx1fXol",
        "outputId": "a20400df-2d78-4c26-d14b-9856c24ae0f6",
        "colab": {
          "base_uri": "https://localhost:8080/",
          "height": 35
        }
      },
      "source": [
        "pattern ='(First|Second)'\n",
        "pattern"
      ],
      "execution_count": 20,
      "outputs": [
        {
          "output_type": "execute_result",
          "data": {
            "application/vnd.google.colaboratory.intrinsic+json": {
              "type": "string"
            },
            "text/plain": [
              "'(First|Second)'"
            ]
          },
          "metadata": {},
          "execution_count": 20
        }
      ]
    },
    {
      "cell_type": "code",
      "metadata": {
        "id": "biSzNtG3NI7_",
        "outputId": "cb1d8402-cf55-48a5-ee9b-4287a97e6fb3",
        "colab": {
          "base_uri": "https://localhost:8080/"
        }
      },
      "source": [
        "pattern = '(First|Second)'\n",
        "\n",
        "df['class'].str.match(pattern)"
      ],
      "execution_count": 12,
      "outputs": [
        {
          "output_type": "execute_result",
          "data": {
            "text/plain": [
              "0      False\n",
              "1       True\n",
              "2      False\n",
              "3       True\n",
              "4      False\n",
              "       ...  \n",
              "886     True\n",
              "887     True\n",
              "888    False\n",
              "889     True\n",
              "890    False\n",
              "Name: class, Length: 891, dtype: bool"
            ]
          },
          "metadata": {},
          "execution_count": 12
        }
      ]
    },
    {
      "cell_type": "code",
      "metadata": {
        "id": "rmK8NyZFeyP6",
        "outputId": "0ab464f3-ec19-4c79-c173-f4067daf06bf",
        "colab": {
          "base_uri": "https://localhost:8080/",
          "height": 597
        }
      },
      "source": [
        "df.loc[df['class'].str.match(pattern)]"
      ],
      "execution_count": 19,
      "outputs": [
        {
          "output_type": "execute_result",
          "data": {
            "text/html": [
              "<div>\n",
              "<style scoped>\n",
              "    .dataframe tbody tr th:only-of-type {\n",
              "        vertical-align: middle;\n",
              "    }\n",
              "\n",
              "    .dataframe tbody tr th {\n",
              "        vertical-align: top;\n",
              "    }\n",
              "\n",
              "    .dataframe thead th {\n",
              "        text-align: right;\n",
              "    }\n",
              "</style>\n",
              "<table border=\"1\" class=\"dataframe\">\n",
              "  <thead>\n",
              "    <tr style=\"text-align: right;\">\n",
              "      <th></th>\n",
              "      <th>survived</th>\n",
              "      <th>pclass</th>\n",
              "      <th>sex</th>\n",
              "      <th>age</th>\n",
              "      <th>sibsp</th>\n",
              "      <th>parch</th>\n",
              "      <th>fare</th>\n",
              "      <th>embarked</th>\n",
              "      <th>class</th>\n",
              "      <th>who</th>\n",
              "      <th>adult_male</th>\n",
              "      <th>deck</th>\n",
              "      <th>embark_town</th>\n",
              "      <th>alive</th>\n",
              "      <th>alone</th>\n",
              "      <th>ticket</th>\n",
              "    </tr>\n",
              "  </thead>\n",
              "  <tbody>\n",
              "    <tr>\n",
              "      <th>1</th>\n",
              "      <td>1</td>\n",
              "      <td>1</td>\n",
              "      <td>female</td>\n",
              "      <td>38.0</td>\n",
              "      <td>1</td>\n",
              "      <td>0</td>\n",
              "      <td>71.2833</td>\n",
              "      <td>C</td>\n",
              "      <td>First</td>\n",
              "      <td>woman</td>\n",
              "      <td>False</td>\n",
              "      <td>C</td>\n",
              "      <td>Cherbourg</td>\n",
              "      <td>yes</td>\n",
              "      <td>False</td>\n",
              "      <td>Ticket: First; Price: $ 71.2833; Port: Cherbourg;</td>\n",
              "    </tr>\n",
              "    <tr>\n",
              "      <th>3</th>\n",
              "      <td>1</td>\n",
              "      <td>1</td>\n",
              "      <td>female</td>\n",
              "      <td>35.0</td>\n",
              "      <td>1</td>\n",
              "      <td>0</td>\n",
              "      <td>53.1000</td>\n",
              "      <td>S</td>\n",
              "      <td>First</td>\n",
              "      <td>woman</td>\n",
              "      <td>False</td>\n",
              "      <td>C</td>\n",
              "      <td>Southampton</td>\n",
              "      <td>yes</td>\n",
              "      <td>False</td>\n",
              "      <td>Ticket: First; Price: $ 53.1; Port: Southampton;</td>\n",
              "    </tr>\n",
              "    <tr>\n",
              "      <th>6</th>\n",
              "      <td>0</td>\n",
              "      <td>1</td>\n",
              "      <td>male</td>\n",
              "      <td>54.0</td>\n",
              "      <td>0</td>\n",
              "      <td>0</td>\n",
              "      <td>51.8625</td>\n",
              "      <td>S</td>\n",
              "      <td>First</td>\n",
              "      <td>man</td>\n",
              "      <td>True</td>\n",
              "      <td>E</td>\n",
              "      <td>Southampton</td>\n",
              "      <td>no</td>\n",
              "      <td>True</td>\n",
              "      <td>Ticket: First; Price: $ 51.8625; Port: Southam...</td>\n",
              "    </tr>\n",
              "    <tr>\n",
              "      <th>9</th>\n",
              "      <td>1</td>\n",
              "      <td>2</td>\n",
              "      <td>female</td>\n",
              "      <td>14.0</td>\n",
              "      <td>1</td>\n",
              "      <td>0</td>\n",
              "      <td>30.0708</td>\n",
              "      <td>C</td>\n",
              "      <td>Second</td>\n",
              "      <td>child</td>\n",
              "      <td>False</td>\n",
              "      <td>NaN</td>\n",
              "      <td>Cherbourg</td>\n",
              "      <td>yes</td>\n",
              "      <td>False</td>\n",
              "      <td>Ticket: Second; Price: $ 30.0708; Port: Cherbo...</td>\n",
              "    </tr>\n",
              "    <tr>\n",
              "      <th>11</th>\n",
              "      <td>1</td>\n",
              "      <td>1</td>\n",
              "      <td>female</td>\n",
              "      <td>58.0</td>\n",
              "      <td>0</td>\n",
              "      <td>0</td>\n",
              "      <td>26.5500</td>\n",
              "      <td>S</td>\n",
              "      <td>First</td>\n",
              "      <td>woman</td>\n",
              "      <td>False</td>\n",
              "      <td>C</td>\n",
              "      <td>Southampton</td>\n",
              "      <td>yes</td>\n",
              "      <td>True</td>\n",
              "      <td>Ticket: First; Price: $ 26.55; Port: Southampton;</td>\n",
              "    </tr>\n",
              "    <tr>\n",
              "      <th>...</th>\n",
              "      <td>...</td>\n",
              "      <td>...</td>\n",
              "      <td>...</td>\n",
              "      <td>...</td>\n",
              "      <td>...</td>\n",
              "      <td>...</td>\n",
              "      <td>...</td>\n",
              "      <td>...</td>\n",
              "      <td>...</td>\n",
              "      <td>...</td>\n",
              "      <td>...</td>\n",
              "      <td>...</td>\n",
              "      <td>...</td>\n",
              "      <td>...</td>\n",
              "      <td>...</td>\n",
              "      <td>...</td>\n",
              "    </tr>\n",
              "    <tr>\n",
              "      <th>880</th>\n",
              "      <td>1</td>\n",
              "      <td>2</td>\n",
              "      <td>female</td>\n",
              "      <td>25.0</td>\n",
              "      <td>0</td>\n",
              "      <td>1</td>\n",
              "      <td>26.0000</td>\n",
              "      <td>S</td>\n",
              "      <td>Second</td>\n",
              "      <td>woman</td>\n",
              "      <td>False</td>\n",
              "      <td>NaN</td>\n",
              "      <td>Southampton</td>\n",
              "      <td>yes</td>\n",
              "      <td>False</td>\n",
              "      <td>Ticket: Second; Price: $ 26.0; Port: Southampton;</td>\n",
              "    </tr>\n",
              "    <tr>\n",
              "      <th>883</th>\n",
              "      <td>0</td>\n",
              "      <td>2</td>\n",
              "      <td>male</td>\n",
              "      <td>28.0</td>\n",
              "      <td>0</td>\n",
              "      <td>0</td>\n",
              "      <td>10.5000</td>\n",
              "      <td>S</td>\n",
              "      <td>Second</td>\n",
              "      <td>man</td>\n",
              "      <td>True</td>\n",
              "      <td>NaN</td>\n",
              "      <td>Southampton</td>\n",
              "      <td>no</td>\n",
              "      <td>True</td>\n",
              "      <td>Ticket: Second; Price: $ 10.5; Port: Southampton;</td>\n",
              "    </tr>\n",
              "    <tr>\n",
              "      <th>886</th>\n",
              "      <td>0</td>\n",
              "      <td>2</td>\n",
              "      <td>male</td>\n",
              "      <td>27.0</td>\n",
              "      <td>0</td>\n",
              "      <td>0</td>\n",
              "      <td>13.0000</td>\n",
              "      <td>S</td>\n",
              "      <td>Second</td>\n",
              "      <td>man</td>\n",
              "      <td>True</td>\n",
              "      <td>NaN</td>\n",
              "      <td>Southampton</td>\n",
              "      <td>no</td>\n",
              "      <td>True</td>\n",
              "      <td>Ticket: Second; Price: $ 13.0; Port: Southampton;</td>\n",
              "    </tr>\n",
              "    <tr>\n",
              "      <th>887</th>\n",
              "      <td>1</td>\n",
              "      <td>1</td>\n",
              "      <td>female</td>\n",
              "      <td>19.0</td>\n",
              "      <td>0</td>\n",
              "      <td>0</td>\n",
              "      <td>30.0000</td>\n",
              "      <td>S</td>\n",
              "      <td>First</td>\n",
              "      <td>woman</td>\n",
              "      <td>False</td>\n",
              "      <td>B</td>\n",
              "      <td>Southampton</td>\n",
              "      <td>yes</td>\n",
              "      <td>True</td>\n",
              "      <td>Ticket: First; Price: $ 30.0; Port: Southampton;</td>\n",
              "    </tr>\n",
              "    <tr>\n",
              "      <th>889</th>\n",
              "      <td>1</td>\n",
              "      <td>1</td>\n",
              "      <td>male</td>\n",
              "      <td>26.0</td>\n",
              "      <td>0</td>\n",
              "      <td>0</td>\n",
              "      <td>30.0000</td>\n",
              "      <td>C</td>\n",
              "      <td>First</td>\n",
              "      <td>man</td>\n",
              "      <td>True</td>\n",
              "      <td>C</td>\n",
              "      <td>Cherbourg</td>\n",
              "      <td>yes</td>\n",
              "      <td>True</td>\n",
              "      <td>Ticket: First; Price: $ 30.0; Port: Cherbourg;</td>\n",
              "    </tr>\n",
              "  </tbody>\n",
              "</table>\n",
              "<p>400 rows × 16 columns</p>\n",
              "</div>"
            ],
            "text/plain": [
              "     survived  pclass  ...  alone                                             ticket\n",
              "1           1       1  ...  False  Ticket: First; Price: $ 71.2833; Port: Cherbourg;\n",
              "3           1       1  ...  False   Ticket: First; Price: $ 53.1; Port: Southampton;\n",
              "6           0       1  ...   True  Ticket: First; Price: $ 51.8625; Port: Southam...\n",
              "9           1       2  ...  False  Ticket: Second; Price: $ 30.0708; Port: Cherbo...\n",
              "11          1       1  ...   True  Ticket: First; Price: $ 26.55; Port: Southampton;\n",
              "..        ...     ...  ...    ...                                                ...\n",
              "880         1       2  ...  False  Ticket: Second; Price: $ 26.0; Port: Southampton;\n",
              "883         0       2  ...   True  Ticket: Second; Price: $ 10.5; Port: Southampton;\n",
              "886         0       2  ...   True  Ticket: Second; Price: $ 13.0; Port: Southampton;\n",
              "887         1       1  ...   True   Ticket: First; Price: $ 30.0; Port: Southampton;\n",
              "889         1       1  ...   True     Ticket: First; Price: $ 30.0; Port: Cherbourg;\n",
              "\n",
              "[400 rows x 16 columns]"
            ]
          },
          "metadata": {},
          "execution_count": 19
        }
      ]
    },
    {
      "cell_type": "code",
      "metadata": {
        "id": "T5JNMxitjcyu",
        "outputId": "ed1a6d23-16cb-4031-8b13-b5480aad3e43",
        "colab": {
          "base_uri": "https://localhost:8080/"
        }
      },
      "source": [
        "df['survived'].mean()"
      ],
      "execution_count": 26,
      "outputs": [
        {
          "output_type": "execute_result",
          "data": {
            "text/plain": [
              "0.3838383838383838"
            ]
          },
          "metadata": {},
          "execution_count": 26
        }
      ]
    },
    {
      "cell_type": "code",
      "metadata": {
        "id": "QRftOzt0NI8A",
        "outputId": "da58b208-4995-43c1-f82e-61bda263768d",
        "colab": {
          "base_uri": "https://localhost:8080/"
        }
      },
      "source": [
        "df.loc[ df['class'].str.match(pattern)  , 'survived'].mean()"
      ],
      "execution_count": 14,
      "outputs": [
        {
          "output_type": "execute_result",
          "data": {
            "text/plain": [
              "0.5575"
            ]
          },
          "metadata": {},
          "execution_count": 14
        }
      ]
    },
    {
      "cell_type": "markdown",
      "metadata": {
        "id": "fnd-SKBKNI8A"
      },
      "source": [
        "## How do I extract data with pandas?"
      ]
    },
    {
      "cell_type": "code",
      "metadata": {
        "id": "u1ldCG-dNI8B",
        "outputId": "99351d36-9763-4a80-8967-f201c48a4e9c",
        "colab": {
          "base_uri": "https://localhost:8080/",
          "height": 143
        }
      },
      "source": [
        "df[['class', 'fare', 'embark_town', 'ticket']].head(3)"
      ],
      "execution_count": 27,
      "outputs": [
        {
          "output_type": "execute_result",
          "data": {
            "text/html": [
              "<div>\n",
              "<style scoped>\n",
              "    .dataframe tbody tr th:only-of-type {\n",
              "        vertical-align: middle;\n",
              "    }\n",
              "\n",
              "    .dataframe tbody tr th {\n",
              "        vertical-align: top;\n",
              "    }\n",
              "\n",
              "    .dataframe thead th {\n",
              "        text-align: right;\n",
              "    }\n",
              "</style>\n",
              "<table border=\"1\" class=\"dataframe\">\n",
              "  <thead>\n",
              "    <tr style=\"text-align: right;\">\n",
              "      <th></th>\n",
              "      <th>class</th>\n",
              "      <th>fare</th>\n",
              "      <th>embark_town</th>\n",
              "      <th>ticket</th>\n",
              "    </tr>\n",
              "  </thead>\n",
              "  <tbody>\n",
              "    <tr>\n",
              "      <th>0</th>\n",
              "      <td>Third</td>\n",
              "      <td>7.2500</td>\n",
              "      <td>Southampton</td>\n",
              "      <td>Ticket: Third; Price: $ 7.25; Port: Southampton;</td>\n",
              "    </tr>\n",
              "    <tr>\n",
              "      <th>1</th>\n",
              "      <td>First</td>\n",
              "      <td>71.2833</td>\n",
              "      <td>Cherbourg</td>\n",
              "      <td>Ticket: First; Price: $ 71.2833; Port: Cherbourg;</td>\n",
              "    </tr>\n",
              "    <tr>\n",
              "      <th>2</th>\n",
              "      <td>Third</td>\n",
              "      <td>7.9250</td>\n",
              "      <td>Southampton</td>\n",
              "      <td>Ticket: Third; Price: $ 7.925; Port: Southampton;</td>\n",
              "    </tr>\n",
              "  </tbody>\n",
              "</table>\n",
              "</div>"
            ],
            "text/plain": [
              "   class  ...                                             ticket\n",
              "0  Third  ...   Ticket: Third; Price: $ 7.25; Port: Southampton;\n",
              "1  First  ...  Ticket: First; Price: $ 71.2833; Port: Cherbourg;\n",
              "2  Third  ...  Ticket: Third; Price: $ 7.925; Port: Southampton;\n",
              "\n",
              "[3 rows x 4 columns]"
            ]
          },
          "metadata": {},
          "execution_count": 27
        }
      ]
    },
    {
      "cell_type": "code",
      "metadata": {
        "id": "-Vk9MbB-NI8C",
        "outputId": "c4d81697-0468-432e-a4d0-27e81ad978a4",
        "colab": {
          "base_uri": "https://localhost:8080/",
          "height": 175
        }
      },
      "source": [
        "pattern = '([0-9.]+)'\n",
        "\n",
        "df['ticket'].str.extract(pattern).sample(4)"
      ],
      "execution_count": 29,
      "outputs": [
        {
          "output_type": "execute_result",
          "data": {
            "text/html": [
              "<div>\n",
              "<style scoped>\n",
              "    .dataframe tbody tr th:only-of-type {\n",
              "        vertical-align: middle;\n",
              "    }\n",
              "\n",
              "    .dataframe tbody tr th {\n",
              "        vertical-align: top;\n",
              "    }\n",
              "\n",
              "    .dataframe thead th {\n",
              "        text-align: right;\n",
              "    }\n",
              "</style>\n",
              "<table border=\"1\" class=\"dataframe\">\n",
              "  <thead>\n",
              "    <tr style=\"text-align: right;\">\n",
              "      <th></th>\n",
              "      <th>0</th>\n",
              "    </tr>\n",
              "  </thead>\n",
              "  <tbody>\n",
              "    <tr>\n",
              "      <th>722</th>\n",
              "      <td>13.0</td>\n",
              "    </tr>\n",
              "    <tr>\n",
              "      <th>396</th>\n",
              "      <td>7.8542</td>\n",
              "    </tr>\n",
              "    <tr>\n",
              "      <th>409</th>\n",
              "      <td>25.4667</td>\n",
              "    </tr>\n",
              "    <tr>\n",
              "      <th>355</th>\n",
              "      <td>9.5</td>\n",
              "    </tr>\n",
              "  </tbody>\n",
              "</table>\n",
              "</div>"
            ],
            "text/plain": [
              "           0\n",
              "722     13.0\n",
              "396   7.8542\n",
              "409  25.4667\n",
              "355      9.5"
            ]
          },
          "metadata": {},
          "execution_count": 29
        }
      ]
    },
    {
      "cell_type": "markdown",
      "metadata": {
        "id": "xMeDSXhYNI8C"
      },
      "source": [
        "## How do I substitue text with pandas?"
      ]
    },
    {
      "cell_type": "code",
      "metadata": {
        "id": "sfgiIEL0NI8D",
        "outputId": "88dfefd0-f677-4ff4-dea9-ac59c57625db",
        "colab": {
          "base_uri": "https://localhost:8080/"
        }
      },
      "source": [
        "df['ticket'].str.replace('$', '€').sample(1)"
      ],
      "execution_count": 30,
      "outputs": [
        {
          "output_type": "execute_result",
          "data": {
            "text/plain": [
              "265    Ticket: Second; Price: € 10.5; Port: Southampton;\n",
              "Name: ticket, dtype: object"
            ]
          },
          "metadata": {},
          "execution_count": 30
        }
      ]
    },
    {
      "cell_type": "markdown",
      "metadata": {
        "id": "XPQg6fevNI8E"
      },
      "source": [
        "## What are regular expressions?"
      ]
    },
    {
      "cell_type": "markdown",
      "metadata": {
        "id": "Gj85q2ffNI8F"
      },
      "source": [
        "Regular expressions are a language for describing patterns in text. \n",
        "\n",
        "They are separate from python, but may be used within python program. (And elsewhere, eg., often in SQL). \n",
        "\n",
        "They are notoriously difficult to read and write; and as a separate language, an additional tool to learn. "
      ]
    },
    {
      "cell_type": "markdown",
      "metadata": {
        "id": "k6XeMCu3NI8G"
      },
      "source": [
        "## What regular expression patterns can I use?\n",
        "\n",
        "* literals\n",
        "    * `a`, find me an `a`\n",
        "    * `£`, find `£`\n",
        "    * `!` means `!` \n",
        "    * ... most symbols mean \"find me\"\n",
        "* `.`\n",
        "    * find any **single** symbol \n",
        "* character classes -- find a **single** symbol\n",
        "    * `[abc]` $\\rightarrow$ **either** a, b, c\n",
        "    * `[0-9]` $\\rightarrow$ **either** 0, 1, 2, 3,...9\n",
        "    * `[A-Z]` $\\rightarrow$ **either** capital A, B, ... Z\n",
        "    * inversions\n",
        "        * `[^abc]` $\\rightarrow$ **is not** `a` OR `b` OR `c`\n",
        "        * `[^a-zA-Z0-9 ]`  $\\rightarrow$ **is not** alphanumeric-ish\n",
        "    \n",
        "* alternatives -- find the character**s** given by...\n",
        "    * `(May|June|July)`  $\\rightarrow$ **the whole worlds** May OR June..\n",
        "    "
      ]
    },
    {
      "cell_type": "code",
      "metadata": {
        "id": "r_reL9_RNI8H",
        "outputId": "93aae69b-4c16-41a8-b72d-f657a6d02899",
        "colab": {
          "base_uri": "https://localhost:8080/",
          "height": 423
        }
      },
      "source": [
        "df['ticket'].str.extract('(Ticket: (First|Second))')"
      ],
      "execution_count": 31,
      "outputs": [
        {
          "output_type": "execute_result",
          "data": {
            "text/html": [
              "<div>\n",
              "<style scoped>\n",
              "    .dataframe tbody tr th:only-of-type {\n",
              "        vertical-align: middle;\n",
              "    }\n",
              "\n",
              "    .dataframe tbody tr th {\n",
              "        vertical-align: top;\n",
              "    }\n",
              "\n",
              "    .dataframe thead th {\n",
              "        text-align: right;\n",
              "    }\n",
              "</style>\n",
              "<table border=\"1\" class=\"dataframe\">\n",
              "  <thead>\n",
              "    <tr style=\"text-align: right;\">\n",
              "      <th></th>\n",
              "      <th>0</th>\n",
              "      <th>1</th>\n",
              "    </tr>\n",
              "  </thead>\n",
              "  <tbody>\n",
              "    <tr>\n",
              "      <th>0</th>\n",
              "      <td>NaN</td>\n",
              "      <td>NaN</td>\n",
              "    </tr>\n",
              "    <tr>\n",
              "      <th>1</th>\n",
              "      <td>Ticket: First</td>\n",
              "      <td>First</td>\n",
              "    </tr>\n",
              "    <tr>\n",
              "      <th>2</th>\n",
              "      <td>NaN</td>\n",
              "      <td>NaN</td>\n",
              "    </tr>\n",
              "    <tr>\n",
              "      <th>3</th>\n",
              "      <td>Ticket: First</td>\n",
              "      <td>First</td>\n",
              "    </tr>\n",
              "    <tr>\n",
              "      <th>4</th>\n",
              "      <td>NaN</td>\n",
              "      <td>NaN</td>\n",
              "    </tr>\n",
              "    <tr>\n",
              "      <th>...</th>\n",
              "      <td>...</td>\n",
              "      <td>...</td>\n",
              "    </tr>\n",
              "    <tr>\n",
              "      <th>886</th>\n",
              "      <td>Ticket: Second</td>\n",
              "      <td>Second</td>\n",
              "    </tr>\n",
              "    <tr>\n",
              "      <th>887</th>\n",
              "      <td>Ticket: First</td>\n",
              "      <td>First</td>\n",
              "    </tr>\n",
              "    <tr>\n",
              "      <th>888</th>\n",
              "      <td>NaN</td>\n",
              "      <td>NaN</td>\n",
              "    </tr>\n",
              "    <tr>\n",
              "      <th>889</th>\n",
              "      <td>Ticket: First</td>\n",
              "      <td>First</td>\n",
              "    </tr>\n",
              "    <tr>\n",
              "      <th>890</th>\n",
              "      <td>NaN</td>\n",
              "      <td>NaN</td>\n",
              "    </tr>\n",
              "  </tbody>\n",
              "</table>\n",
              "<p>891 rows × 2 columns</p>\n",
              "</div>"
            ],
            "text/plain": [
              "                  0       1\n",
              "0               NaN     NaN\n",
              "1     Ticket: First   First\n",
              "2               NaN     NaN\n",
              "3     Ticket: First   First\n",
              "4               NaN     NaN\n",
              "..              ...     ...\n",
              "886  Ticket: Second  Second\n",
              "887   Ticket: First   First\n",
              "888             NaN     NaN\n",
              "889   Ticket: First   First\n",
              "890             NaN     NaN\n",
              "\n",
              "[891 rows x 2 columns]"
            ]
          },
          "metadata": {},
          "execution_count": 31
        }
      ]
    },
    {
      "cell_type": "code",
      "metadata": {
        "id": "tpgvs98Zn97w",
        "outputId": "3cb5ff11-375b-4121-cd5f-5cd9d9ae53b8",
        "colab": {
          "base_uri": "https://localhost:8080/",
          "height": 423
        }
      },
      "source": [
        "df['ticket'].str.extract('( [0-9])')"
      ],
      "execution_count": 33,
      "outputs": [
        {
          "output_type": "execute_result",
          "data": {
            "text/html": [
              "<div>\n",
              "<style scoped>\n",
              "    .dataframe tbody tr th:only-of-type {\n",
              "        vertical-align: middle;\n",
              "    }\n",
              "\n",
              "    .dataframe tbody tr th {\n",
              "        vertical-align: top;\n",
              "    }\n",
              "\n",
              "    .dataframe thead th {\n",
              "        text-align: right;\n",
              "    }\n",
              "</style>\n",
              "<table border=\"1\" class=\"dataframe\">\n",
              "  <thead>\n",
              "    <tr style=\"text-align: right;\">\n",
              "      <th></th>\n",
              "      <th>0</th>\n",
              "    </tr>\n",
              "  </thead>\n",
              "  <tbody>\n",
              "    <tr>\n",
              "      <th>0</th>\n",
              "      <td>7</td>\n",
              "    </tr>\n",
              "    <tr>\n",
              "      <th>1</th>\n",
              "      <td>7</td>\n",
              "    </tr>\n",
              "    <tr>\n",
              "      <th>2</th>\n",
              "      <td>7</td>\n",
              "    </tr>\n",
              "    <tr>\n",
              "      <th>3</th>\n",
              "      <td>5</td>\n",
              "    </tr>\n",
              "    <tr>\n",
              "      <th>4</th>\n",
              "      <td>8</td>\n",
              "    </tr>\n",
              "    <tr>\n",
              "      <th>...</th>\n",
              "      <td>...</td>\n",
              "    </tr>\n",
              "    <tr>\n",
              "      <th>886</th>\n",
              "      <td>1</td>\n",
              "    </tr>\n",
              "    <tr>\n",
              "      <th>887</th>\n",
              "      <td>3</td>\n",
              "    </tr>\n",
              "    <tr>\n",
              "      <th>888</th>\n",
              "      <td>2</td>\n",
              "    </tr>\n",
              "    <tr>\n",
              "      <th>889</th>\n",
              "      <td>3</td>\n",
              "    </tr>\n",
              "    <tr>\n",
              "      <th>890</th>\n",
              "      <td>7</td>\n",
              "    </tr>\n",
              "  </tbody>\n",
              "</table>\n",
              "<p>891 rows × 1 columns</p>\n",
              "</div>"
            ],
            "text/plain": [
              "      0\n",
              "0     7\n",
              "1     7\n",
              "2     7\n",
              "3     5\n",
              "4     8\n",
              "..   ..\n",
              "886   1\n",
              "887   3\n",
              "888   2\n",
              "889   3\n",
              "890   7\n",
              "\n",
              "[891 rows x 1 columns]"
            ]
          },
          "metadata": {},
          "execution_count": 33
        }
      ]
    },
    {
      "cell_type": "code",
      "metadata": {
        "id": "E7xUHIB9NI8H",
        "outputId": "0a3ee7c8-5e75-437b-c2a5-df1d897fdb85",
        "colab": {
          "base_uri": "https://localhost:8080/",
          "height": 423
        }
      },
      "source": [
        "df['ticket'].str.extract('( [0-9][0-9])')"
      ],
      "execution_count": 32,
      "outputs": [
        {
          "output_type": "execute_result",
          "data": {
            "text/html": [
              "<div>\n",
              "<style scoped>\n",
              "    .dataframe tbody tr th:only-of-type {\n",
              "        vertical-align: middle;\n",
              "    }\n",
              "\n",
              "    .dataframe tbody tr th {\n",
              "        vertical-align: top;\n",
              "    }\n",
              "\n",
              "    .dataframe thead th {\n",
              "        text-align: right;\n",
              "    }\n",
              "</style>\n",
              "<table border=\"1\" class=\"dataframe\">\n",
              "  <thead>\n",
              "    <tr style=\"text-align: right;\">\n",
              "      <th></th>\n",
              "      <th>0</th>\n",
              "    </tr>\n",
              "  </thead>\n",
              "  <tbody>\n",
              "    <tr>\n",
              "      <th>0</th>\n",
              "      <td>NaN</td>\n",
              "    </tr>\n",
              "    <tr>\n",
              "      <th>1</th>\n",
              "      <td>71</td>\n",
              "    </tr>\n",
              "    <tr>\n",
              "      <th>2</th>\n",
              "      <td>NaN</td>\n",
              "    </tr>\n",
              "    <tr>\n",
              "      <th>3</th>\n",
              "      <td>53</td>\n",
              "    </tr>\n",
              "    <tr>\n",
              "      <th>4</th>\n",
              "      <td>NaN</td>\n",
              "    </tr>\n",
              "    <tr>\n",
              "      <th>...</th>\n",
              "      <td>...</td>\n",
              "    </tr>\n",
              "    <tr>\n",
              "      <th>886</th>\n",
              "      <td>13</td>\n",
              "    </tr>\n",
              "    <tr>\n",
              "      <th>887</th>\n",
              "      <td>30</td>\n",
              "    </tr>\n",
              "    <tr>\n",
              "      <th>888</th>\n",
              "      <td>23</td>\n",
              "    </tr>\n",
              "    <tr>\n",
              "      <th>889</th>\n",
              "      <td>30</td>\n",
              "    </tr>\n",
              "    <tr>\n",
              "      <th>890</th>\n",
              "      <td>NaN</td>\n",
              "    </tr>\n",
              "  </tbody>\n",
              "</table>\n",
              "<p>891 rows × 1 columns</p>\n",
              "</div>"
            ],
            "text/plain": [
              "       0\n",
              "0    NaN\n",
              "1     71\n",
              "2    NaN\n",
              "3     53\n",
              "4    NaN\n",
              "..   ...\n",
              "886   13\n",
              "887   30\n",
              "888   23\n",
              "889   30\n",
              "890  NaN\n",
              "\n",
              "[891 rows x 1 columns]"
            ]
          },
          "metadata": {},
          "execution_count": 32
        }
      ]
    },
    {
      "cell_type": "code",
      "metadata": {
        "id": "bQHNGgGGNI8H",
        "outputId": "c603753a-f337-457d-ddfb-1dfcc1104f14",
        "colab": {
          "base_uri": "https://localhost:8080/"
        }
      },
      "source": [
        "df['ticket'].sample(1)"
      ],
      "execution_count": 34,
      "outputs": [
        {
          "output_type": "execute_result",
          "data": {
            "text/plain": [
              "752    Ticket: Third; Price: $ 9.5; Port: Southampton;\n",
              "Name: ticket, dtype: object"
            ]
          },
          "metadata": {},
          "execution_count": 34
        }
      ]
    },
    {
      "cell_type": "code",
      "metadata": {
        "id": "bbsaRs8WNI8I",
        "outputId": "014ad9d8-0f0e-498a-b225-9b39f894fe39",
        "colab": {
          "base_uri": "https://localhost:8080/",
          "height": 112
        }
      },
      "source": [
        "df['ticket'].str.extract('(Ticket: [A-Z])').sample(2)"
      ],
      "execution_count": 37,
      "outputs": [
        {
          "output_type": "execute_result",
          "data": {
            "text/html": [
              "<div>\n",
              "<style scoped>\n",
              "    .dataframe tbody tr th:only-of-type {\n",
              "        vertical-align: middle;\n",
              "    }\n",
              "\n",
              "    .dataframe tbody tr th {\n",
              "        vertical-align: top;\n",
              "    }\n",
              "\n",
              "    .dataframe thead th {\n",
              "        text-align: right;\n",
              "    }\n",
              "</style>\n",
              "<table border=\"1\" class=\"dataframe\">\n",
              "  <thead>\n",
              "    <tr style=\"text-align: right;\">\n",
              "      <th></th>\n",
              "      <th>0</th>\n",
              "    </tr>\n",
              "  </thead>\n",
              "  <tbody>\n",
              "    <tr>\n",
              "      <th>654</th>\n",
              "      <td>Ticket: T</td>\n",
              "    </tr>\n",
              "    <tr>\n",
              "      <th>524</th>\n",
              "      <td>Ticket: T</td>\n",
              "    </tr>\n",
              "  </tbody>\n",
              "</table>\n",
              "</div>"
            ],
            "text/plain": [
              "             0\n",
              "654  Ticket: T\n",
              "524  Ticket: T"
            ]
          },
          "metadata": {},
          "execution_count": 37
        }
      ]
    },
    {
      "cell_type": "code",
      "metadata": {
        "id": "i8OMyvsJNI8I",
        "outputId": "b6081c61-bf30-4da8-f73f-1eef990cc972",
        "colab": {
          "base_uri": "https://localhost:8080/",
          "height": 143
        }
      },
      "source": [
        "df['ticket'].str.extract('(T........)').sample(3)"
      ],
      "execution_count": 38,
      "outputs": [
        {
          "output_type": "execute_result",
          "data": {
            "text/html": [
              "<div>\n",
              "<style scoped>\n",
              "    .dataframe tbody tr th:only-of-type {\n",
              "        vertical-align: middle;\n",
              "    }\n",
              "\n",
              "    .dataframe tbody tr th {\n",
              "        vertical-align: top;\n",
              "    }\n",
              "\n",
              "    .dataframe thead th {\n",
              "        text-align: right;\n",
              "    }\n",
              "</style>\n",
              "<table border=\"1\" class=\"dataframe\">\n",
              "  <thead>\n",
              "    <tr style=\"text-align: right;\">\n",
              "      <th></th>\n",
              "      <th>0</th>\n",
              "    </tr>\n",
              "  </thead>\n",
              "  <tbody>\n",
              "    <tr>\n",
              "      <th>650</th>\n",
              "      <td>Ticket: T</td>\n",
              "    </tr>\n",
              "    <tr>\n",
              "      <th>496</th>\n",
              "      <td>Ticket: F</td>\n",
              "    </tr>\n",
              "    <tr>\n",
              "      <th>175</th>\n",
              "      <td>Ticket: T</td>\n",
              "    </tr>\n",
              "  </tbody>\n",
              "</table>\n",
              "</div>"
            ],
            "text/plain": [
              "             0\n",
              "650  Ticket: T\n",
              "496  Ticket: F\n",
              "175  Ticket: T"
            ]
          },
          "metadata": {},
          "execution_count": 38
        }
      ]
    },
    {
      "cell_type": "code",
      "metadata": {
        "id": "j2IG7P1jNI8I",
        "outputId": "937ca1a3-9df0-411d-b305-50917558b63e",
        "colab": {
          "base_uri": "https://localhost:8080/",
          "height": 143
        }
      },
      "source": [
        "df['ticket'].str.extract('(Price: [^0-9A-Za-z] ..)').sample(3)"
      ],
      "execution_count": 39,
      "outputs": [
        {
          "output_type": "execute_result",
          "data": {
            "text/html": [
              "<div>\n",
              "<style scoped>\n",
              "    .dataframe tbody tr th:only-of-type {\n",
              "        vertical-align: middle;\n",
              "    }\n",
              "\n",
              "    .dataframe tbody tr th {\n",
              "        vertical-align: top;\n",
              "    }\n",
              "\n",
              "    .dataframe thead th {\n",
              "        text-align: right;\n",
              "    }\n",
              "</style>\n",
              "<table border=\"1\" class=\"dataframe\">\n",
              "  <thead>\n",
              "    <tr style=\"text-align: right;\">\n",
              "      <th></th>\n",
              "      <th>0</th>\n",
              "    </tr>\n",
              "  </thead>\n",
              "  <tbody>\n",
              "    <tr>\n",
              "      <th>339</th>\n",
              "      <td>Price: $ 35</td>\n",
              "    </tr>\n",
              "    <tr>\n",
              "      <th>91</th>\n",
              "      <td>Price: $ 7.</td>\n",
              "    </tr>\n",
              "    <tr>\n",
              "      <th>151</th>\n",
              "      <td>Price: $ 66</td>\n",
              "    </tr>\n",
              "  </tbody>\n",
              "</table>\n",
              "</div>"
            ],
            "text/plain": [
              "               0\n",
              "339  Price: $ 35\n",
              "91   Price: $ 7.\n",
              "151  Price: $ 66"
            ]
          },
          "metadata": {},
          "execution_count": 39
        }
      ]
    },
    {
      "cell_type": "code",
      "metadata": {
        "id": "l06Le60yNI8J",
        "outputId": "9e806c65-c83a-4e83-846a-bbd26e0f4fd6",
        "colab": {
          "base_uri": "https://localhost:8080/",
          "height": 143
        }
      },
      "source": [
        "df['ticket'].str.extract('(Port: (Cherbourg|Southampton))').sample(3)"
      ],
      "execution_count": 40,
      "outputs": [
        {
          "output_type": "execute_result",
          "data": {
            "text/html": [
              "<div>\n",
              "<style scoped>\n",
              "    .dataframe tbody tr th:only-of-type {\n",
              "        vertical-align: middle;\n",
              "    }\n",
              "\n",
              "    .dataframe tbody tr th {\n",
              "        vertical-align: top;\n",
              "    }\n",
              "\n",
              "    .dataframe thead th {\n",
              "        text-align: right;\n",
              "    }\n",
              "</style>\n",
              "<table border=\"1\" class=\"dataframe\">\n",
              "  <thead>\n",
              "    <tr style=\"text-align: right;\">\n",
              "      <th></th>\n",
              "      <th>0</th>\n",
              "      <th>1</th>\n",
              "    </tr>\n",
              "  </thead>\n",
              "  <tbody>\n",
              "    <tr>\n",
              "      <th>399</th>\n",
              "      <td>Port: Southampton</td>\n",
              "      <td>Southampton</td>\n",
              "    </tr>\n",
              "    <tr>\n",
              "      <th>416</th>\n",
              "      <td>Port: Southampton</td>\n",
              "      <td>Southampton</td>\n",
              "    </tr>\n",
              "    <tr>\n",
              "      <th>768</th>\n",
              "      <td>NaN</td>\n",
              "      <td>NaN</td>\n",
              "    </tr>\n",
              "  </tbody>\n",
              "</table>\n",
              "</div>"
            ],
            "text/plain": [
              "                     0            1\n",
              "399  Port: Southampton  Southampton\n",
              "416  Port: Southampton  Southampton\n",
              "768                NaN          NaN"
            ]
          },
          "metadata": {},
          "execution_count": 40
        }
      ]
    },
    {
      "cell_type": "markdown",
      "metadata": {
        "id": "A_NvrCHTNI8J"
      },
      "source": [
        "* repetitions\n",
        "    * optional `?`\n",
        "        * an optional number: `[0-9]?`\n",
        "    * one or more `+`\n",
        "        * one or more spaces: ` +`  \n",
        "    * optional, or more, `*`\n",
        "        * ` [0-9][0-9]?.[0-9]*`\n",
        "    "
      ]
    },
    {
      "cell_type": "code",
      "metadata": {
        "id": "mKkqOxZhNI8K",
        "outputId": "3cefaa3c-a425-431f-fbfc-53d6488304c3",
        "colab": {
          "base_uri": "https://localhost:8080/",
          "height": 143
        }
      },
      "source": [
        "df['ticket'].str.extract('([0-9][0-9]?.[0-9]*)').sample(3)"
      ],
      "execution_count": 41,
      "outputs": [
        {
          "output_type": "execute_result",
          "data": {
            "text/html": [
              "<div>\n",
              "<style scoped>\n",
              "    .dataframe tbody tr th:only-of-type {\n",
              "        vertical-align: middle;\n",
              "    }\n",
              "\n",
              "    .dataframe tbody tr th {\n",
              "        vertical-align: top;\n",
              "    }\n",
              "\n",
              "    .dataframe thead th {\n",
              "        text-align: right;\n",
              "    }\n",
              "</style>\n",
              "<table border=\"1\" class=\"dataframe\">\n",
              "  <thead>\n",
              "    <tr style=\"text-align: right;\">\n",
              "      <th></th>\n",
              "      <th>0</th>\n",
              "    </tr>\n",
              "  </thead>\n",
              "  <tbody>\n",
              "    <tr>\n",
              "      <th>452</th>\n",
              "      <td>27.75</td>\n",
              "    </tr>\n",
              "    <tr>\n",
              "      <th>26</th>\n",
              "      <td>7.225</td>\n",
              "    </tr>\n",
              "    <tr>\n",
              "      <th>178</th>\n",
              "      <td>13.0</td>\n",
              "    </tr>\n",
              "  </tbody>\n",
              "</table>\n",
              "</div>"
            ],
            "text/plain": [
              "         0\n",
              "452  27.75\n",
              "26   7.225\n",
              "178   13.0"
            ]
          },
          "metadata": {},
          "execution_count": 41
        }
      ]
    },
    {
      "cell_type": "code",
      "metadata": {
        "id": "Gch5kEZ-NI8K",
        "outputId": "81b7a68d-de45-4f7d-e240-0e7de38a1bd9",
        "colab": {
          "base_uri": "https://localhost:8080/",
          "height": 143
        }
      },
      "source": [
        "df['ticket'].str.extract('(Ticket: [a-zA-Z]+)').sample(3)"
      ],
      "execution_count": 42,
      "outputs": [
        {
          "output_type": "execute_result",
          "data": {
            "text/html": [
              "<div>\n",
              "<style scoped>\n",
              "    .dataframe tbody tr th:only-of-type {\n",
              "        vertical-align: middle;\n",
              "    }\n",
              "\n",
              "    .dataframe tbody tr th {\n",
              "        vertical-align: top;\n",
              "    }\n",
              "\n",
              "    .dataframe thead th {\n",
              "        text-align: right;\n",
              "    }\n",
              "</style>\n",
              "<table border=\"1\" class=\"dataframe\">\n",
              "  <thead>\n",
              "    <tr style=\"text-align: right;\">\n",
              "      <th></th>\n",
              "      <th>0</th>\n",
              "    </tr>\n",
              "  </thead>\n",
              "  <tbody>\n",
              "    <tr>\n",
              "      <th>154</th>\n",
              "      <td>Ticket: Third</td>\n",
              "    </tr>\n",
              "    <tr>\n",
              "      <th>235</th>\n",
              "      <td>Ticket: Third</td>\n",
              "    </tr>\n",
              "    <tr>\n",
              "      <th>399</th>\n",
              "      <td>Ticket: Second</td>\n",
              "    </tr>\n",
              "  </tbody>\n",
              "</table>\n",
              "</div>"
            ],
            "text/plain": [
              "                  0\n",
              "154   Ticket: Third\n",
              "235   Ticket: Third\n",
              "399  Ticket: Second"
            ]
          },
          "metadata": {},
          "execution_count": 42
        }
      ]
    },
    {
      "cell_type": "code",
      "metadata": {
        "id": "C8gUuRKoNI8K",
        "outputId": "90e8ffa0-3113-4a53-f7ab-847520c91a7e",
        "colab": {
          "base_uri": "https://localhost:8080/"
        }
      },
      "source": [
        "row = 0\n",
        "match = 1 # second match\n",
        "\n",
        "df['ticket'].str.extractall('([a-zA-Z]+: [a-zA-Z]+)').loc[row, match]"
      ],
      "execution_count": 43,
      "outputs": [
        {
          "output_type": "execute_result",
          "data": {
            "text/plain": [
              "0    Port: Southampton\n",
              "Name: (0, 1), dtype: object"
            ]
          },
          "metadata": {},
          "execution_count": 43
        }
      ]
    },
    {
      "cell_type": "code",
      "metadata": {
        "id": "0DViN21DNI8L",
        "outputId": "fe40a8c0-6562-4f85-b81e-acc436ea2347",
        "colab": {
          "base_uri": "https://localhost:8080/",
          "height": 423
        }
      },
      "source": [
        "df['ticket'].str.extract('([a-zA-Z]+tow?n)')"
      ],
      "execution_count": 44,
      "outputs": [
        {
          "output_type": "execute_result",
          "data": {
            "text/html": [
              "<div>\n",
              "<style scoped>\n",
              "    .dataframe tbody tr th:only-of-type {\n",
              "        vertical-align: middle;\n",
              "    }\n",
              "\n",
              "    .dataframe tbody tr th {\n",
              "        vertical-align: top;\n",
              "    }\n",
              "\n",
              "    .dataframe thead th {\n",
              "        text-align: right;\n",
              "    }\n",
              "</style>\n",
              "<table border=\"1\" class=\"dataframe\">\n",
              "  <thead>\n",
              "    <tr style=\"text-align: right;\">\n",
              "      <th></th>\n",
              "      <th>0</th>\n",
              "    </tr>\n",
              "  </thead>\n",
              "  <tbody>\n",
              "    <tr>\n",
              "      <th>0</th>\n",
              "      <td>Southampton</td>\n",
              "    </tr>\n",
              "    <tr>\n",
              "      <th>1</th>\n",
              "      <td>NaN</td>\n",
              "    </tr>\n",
              "    <tr>\n",
              "      <th>2</th>\n",
              "      <td>Southampton</td>\n",
              "    </tr>\n",
              "    <tr>\n",
              "      <th>3</th>\n",
              "      <td>Southampton</td>\n",
              "    </tr>\n",
              "    <tr>\n",
              "      <th>4</th>\n",
              "      <td>Southampton</td>\n",
              "    </tr>\n",
              "    <tr>\n",
              "      <th>...</th>\n",
              "      <td>...</td>\n",
              "    </tr>\n",
              "    <tr>\n",
              "      <th>886</th>\n",
              "      <td>Southampton</td>\n",
              "    </tr>\n",
              "    <tr>\n",
              "      <th>887</th>\n",
              "      <td>Southampton</td>\n",
              "    </tr>\n",
              "    <tr>\n",
              "      <th>888</th>\n",
              "      <td>Southampton</td>\n",
              "    </tr>\n",
              "    <tr>\n",
              "      <th>889</th>\n",
              "      <td>NaN</td>\n",
              "    </tr>\n",
              "    <tr>\n",
              "      <th>890</th>\n",
              "      <td>Queenstown</td>\n",
              "    </tr>\n",
              "  </tbody>\n",
              "</table>\n",
              "<p>891 rows × 1 columns</p>\n",
              "</div>"
            ],
            "text/plain": [
              "               0\n",
              "0    Southampton\n",
              "1            NaN\n",
              "2    Southampton\n",
              "3    Southampton\n",
              "4    Southampton\n",
              "..           ...\n",
              "886  Southampton\n",
              "887  Southampton\n",
              "888  Southampton\n",
              "889          NaN\n",
              "890   Queenstown\n",
              "\n",
              "[891 rows x 1 columns]"
            ]
          },
          "metadata": {},
          "execution_count": 44
        }
      ]
    },
    {
      "cell_type": "markdown",
      "metadata": {
        "id": "AJRZUyhgNI8M"
      },
      "source": [
        "* EXTRA: \n",
        "    * escaping\n",
        "        * How do I say, literally, the `.` symbol?\n",
        "        * `\\.`\n",
        "    "
      ]
    },
    {
      "cell_type": "code",
      "metadata": {
        "id": "y0HclCk8NI8M",
        "outputId": "9f034708-a340-4910-9107-7fef894ef174",
        "colab": {
          "base_uri": "https://localhost:8080/",
          "height": 112
        }
      },
      "source": [
        "df['ticket'].str.extract('(\\$ [0-9]+\\.[0-9]+)').sample(2)"
      ],
      "execution_count": 47,
      "outputs": [
        {
          "output_type": "execute_result",
          "data": {
            "text/html": [
              "<div>\n",
              "<style scoped>\n",
              "    .dataframe tbody tr th:only-of-type {\n",
              "        vertical-align: middle;\n",
              "    }\n",
              "\n",
              "    .dataframe tbody tr th {\n",
              "        vertical-align: top;\n",
              "    }\n",
              "\n",
              "    .dataframe thead th {\n",
              "        text-align: right;\n",
              "    }\n",
              "</style>\n",
              "<table border=\"1\" class=\"dataframe\">\n",
              "  <thead>\n",
              "    <tr style=\"text-align: right;\">\n",
              "      <th></th>\n",
              "      <th>0</th>\n",
              "    </tr>\n",
              "  </thead>\n",
              "  <tbody>\n",
              "    <tr>\n",
              "      <th>167</th>\n",
              "      <td>$ 27.9</td>\n",
              "    </tr>\n",
              "    <tr>\n",
              "      <th>775</th>\n",
              "      <td>$ 7.75</td>\n",
              "    </tr>\n",
              "  </tbody>\n",
              "</table>\n",
              "</div>"
            ],
            "text/plain": [
              "          0\n",
              "167  $ 27.9\n",
              "775  $ 7.75"
            ]
          },
          "metadata": {},
          "execution_count": 47
        }
      ]
    },
    {
      "cell_type": "markdown",
      "metadata": {
        "id": "ynFwyEK3NI8N"
      },
      "source": [
        "* positional matching\n",
        "    * `^` means **at the beginning**\n",
        "    * `$` means **at the end**"
      ]
    },
    {
      "cell_type": "code",
      "metadata": {
        "id": "fJrOEJUqNI8N",
        "outputId": "3c18c9d6-a148-42d3-da50-6d168699c223",
        "colab": {
          "base_uri": "https://localhost:8080/",
          "height": 112
        }
      },
      "source": [
        "df['ticket'].str.extractall('([a-zA-Z]+: [a-zA-Z]+;$)').sample(1)"
      ],
      "execution_count": 48,
      "outputs": [
        {
          "output_type": "execute_result",
          "data": {
            "text/html": [
              "<div>\n",
              "<style scoped>\n",
              "    .dataframe tbody tr th:only-of-type {\n",
              "        vertical-align: middle;\n",
              "    }\n",
              "\n",
              "    .dataframe tbody tr th {\n",
              "        vertical-align: top;\n",
              "    }\n",
              "\n",
              "    .dataframe thead th {\n",
              "        text-align: right;\n",
              "    }\n",
              "</style>\n",
              "<table border=\"1\" class=\"dataframe\">\n",
              "  <thead>\n",
              "    <tr style=\"text-align: right;\">\n",
              "      <th></th>\n",
              "      <th></th>\n",
              "      <th>0</th>\n",
              "    </tr>\n",
              "    <tr>\n",
              "      <th></th>\n",
              "      <th>match</th>\n",
              "      <th></th>\n",
              "    </tr>\n",
              "  </thead>\n",
              "  <tbody>\n",
              "    <tr>\n",
              "      <th>661</th>\n",
              "      <th>0</th>\n",
              "      <td>Port: Cherbourg;</td>\n",
              "    </tr>\n",
              "  </tbody>\n",
              "</table>\n",
              "</div>"
            ],
            "text/plain": [
              "                          0\n",
              "    match                  \n",
              "661 0      Port: Cherbourg;"
            ]
          },
          "metadata": {},
          "execution_count": 48
        }
      ]
    },
    {
      "cell_type": "code",
      "metadata": {
        "id": "4BqsT8BTNI8O",
        "outputId": "c0f842fa-e1dd-44d2-89df-6ad08dc86b0f",
        "colab": {
          "base_uri": "https://localhost:8080/",
          "height": 112
        }
      },
      "source": [
        "df['ticket'].str.extractall('(^[a-zA-Z]+: [a-zA-Z]+;)').sample(1)"
      ],
      "execution_count": 49,
      "outputs": [
        {
          "output_type": "execute_result",
          "data": {
            "text/html": [
              "<div>\n",
              "<style scoped>\n",
              "    .dataframe tbody tr th:only-of-type {\n",
              "        vertical-align: middle;\n",
              "    }\n",
              "\n",
              "    .dataframe tbody tr th {\n",
              "        vertical-align: top;\n",
              "    }\n",
              "\n",
              "    .dataframe thead th {\n",
              "        text-align: right;\n",
              "    }\n",
              "</style>\n",
              "<table border=\"1\" class=\"dataframe\">\n",
              "  <thead>\n",
              "    <tr style=\"text-align: right;\">\n",
              "      <th></th>\n",
              "      <th></th>\n",
              "      <th>0</th>\n",
              "    </tr>\n",
              "    <tr>\n",
              "      <th></th>\n",
              "      <th>match</th>\n",
              "      <th></th>\n",
              "    </tr>\n",
              "  </thead>\n",
              "  <tbody>\n",
              "    <tr>\n",
              "      <th>625</th>\n",
              "      <th>0</th>\n",
              "      <td>Ticket: First;</td>\n",
              "    </tr>\n",
              "  </tbody>\n",
              "</table>\n",
              "</div>"
            ],
            "text/plain": [
              "                        0\n",
              "    match                \n",
              "625 0      Ticket: First;"
            ]
          },
          "metadata": {},
          "execution_count": 49
        }
      ]
    },
    {
      "cell_type": "markdown",
      "metadata": {
        "id": "-ee2YZhFNI8P"
      },
      "source": [
        "## Next Steps\n",
        "\n",
        "* review a \"Regex Cheat Sheet\"\n",
        "    * also, eg., https://en.wikipedia.org/wiki/Regular_expression#Examples"
      ]
    },
    {
      "cell_type": "markdown",
      "metadata": {
        "id": "Eodu8yfxNI8P"
      },
      "source": [
        "## Exercise (30 min)\n",
        "\n",
        "* find all the words in the tickets \n",
        "    * HINT: a word is a repeated letter followed by a space or a colon\n",
        "    * HINT: `[ :]` means a space or a colon\n",
        "* find all the USD prices\n",
        "    * HINT: ``` \\$ ``` and repeated numbers \n",
        "    \n",
        "* find all the high-price tickets\n",
        "    * HINT: consider `\\$`, tripple-digit number, `\\.`"
      ]
    },
    {
      "cell_type": "code",
      "metadata": {
        "id": "obTiewRDNI8P"
      },
      "source": [
        "Solution"
      ],
      "execution_count": null,
      "outputs": []
    },
    {
      "cell_type": "code",
      "metadata": {
        "id": "QxhdfQF0NI8T",
        "outputId": "c91725ee-bb93-47f8-e4f3-c151d413c3f9",
        "colab": {
          "base_uri": "https://localhost:8080/"
        }
      },
      "source": [
        "df['ticket'].str.findall('([a-zA-Z]+[ :])').sample(10)"
      ],
      "execution_count": 51,
      "outputs": [
        {
          "output_type": "execute_result",
          "data": {
            "text/plain": [
              "644    [Ticket:,  ,  , Price:,  ,  ,  , Port:,  ]\n",
              "659    [Ticket:,  ,  , Price:,  ,  ,  , Port:,  ]\n",
              "637    [Ticket:,  ,  , Price:,  ,  ,  , Port:,  ]\n",
              "309    [Ticket:,  ,  , Price:,  ,  ,  , Port:,  ]\n",
              "259    [Ticket:,  ,  , Price:,  ,  ,  , Port:,  ]\n",
              "56     [Ticket:,  ,  , Price:,  ,  ,  , Port:,  ]\n",
              "430    [Ticket:,  ,  , Price:,  ,  ,  , Port:,  ]\n",
              "860    [Ticket:,  ,  , Price:,  ,  ,  , Port:,  ]\n",
              "820    [Ticket:,  ,  , Price:,  ,  ,  , Port:,  ]\n",
              "498    [Ticket:,  ,  , Price:,  ,  ,  , Port:,  ]\n",
              "Name: ticket, dtype: object"
            ]
          },
          "metadata": {},
          "execution_count": 51
        }
      ]
    },
    {
      "cell_type": "code",
      "metadata": {
        "id": "vO4qXSwBNI8T",
        "outputId": "37d6874f-60be-4ea5-f96b-d5338b4e0e8b",
        "colab": {
          "base_uri": "https://localhost:8080/",
          "height": 112
        }
      },
      "source": [
        "df['ticket'].str.extract('(\\$ [0-9]+\\.[0-9]+)').sample(2)"
      ],
      "execution_count": 64,
      "outputs": [
        {
          "output_type": "execute_result",
          "data": {
            "text/html": [
              "<div>\n",
              "<style scoped>\n",
              "    .dataframe tbody tr th:only-of-type {\n",
              "        vertical-align: middle;\n",
              "    }\n",
              "\n",
              "    .dataframe tbody tr th {\n",
              "        vertical-align: top;\n",
              "    }\n",
              "\n",
              "    .dataframe thead th {\n",
              "        text-align: right;\n",
              "    }\n",
              "</style>\n",
              "<table border=\"1\" class=\"dataframe\">\n",
              "  <thead>\n",
              "    <tr style=\"text-align: right;\">\n",
              "      <th></th>\n",
              "      <th>0</th>\n",
              "    </tr>\n",
              "  </thead>\n",
              "  <tbody>\n",
              "    <tr>\n",
              "      <th>829</th>\n",
              "      <td>NaN</td>\n",
              "    </tr>\n",
              "    <tr>\n",
              "      <th>776</th>\n",
              "      <td>$ 7.75</td>\n",
              "    </tr>\n",
              "  </tbody>\n",
              "</table>\n",
              "</div>"
            ],
            "text/plain": [
              "          0\n",
              "829     NaN\n",
              "776  $ 7.75"
            ]
          },
          "metadata": {},
          "execution_count": 64
        }
      ]
    },
    {
      "cell_type": "code",
      "metadata": {
        "id": "w4qZ6YV4NI8U",
        "outputId": "7d575727-cd21-4b8f-a6ba-b0feafe035b0",
        "colab": {
          "base_uri": "https://localhost:8080/",
          "height": 1000
        }
      },
      "source": [
        "row = 0\n",
        "match = 1 # second match\n",
        "df['ticket'].str.extractall('(\\$ [0-8][0-9][0-9]+\\.[0-9]+)')#.loc[row, 0]"
      ],
      "execution_count": 66,
      "outputs": [
        {
          "output_type": "execute_result",
          "data": {
            "text/html": [
              "<div>\n",
              "<style scoped>\n",
              "    .dataframe tbody tr th:only-of-type {\n",
              "        vertical-align: middle;\n",
              "    }\n",
              "\n",
              "    .dataframe tbody tr th {\n",
              "        vertical-align: top;\n",
              "    }\n",
              "\n",
              "    .dataframe thead th {\n",
              "        text-align: right;\n",
              "    }\n",
              "</style>\n",
              "<table border=\"1\" class=\"dataframe\">\n",
              "  <thead>\n",
              "    <tr style=\"text-align: right;\">\n",
              "      <th></th>\n",
              "      <th></th>\n",
              "      <th>0</th>\n",
              "    </tr>\n",
              "    <tr>\n",
              "      <th></th>\n",
              "      <th>match</th>\n",
              "      <th></th>\n",
              "    </tr>\n",
              "  </thead>\n",
              "  <tbody>\n",
              "    <tr>\n",
              "      <th>27</th>\n",
              "      <th>0</th>\n",
              "      <td>$ 263.0</td>\n",
              "    </tr>\n",
              "    <tr>\n",
              "      <th>31</th>\n",
              "      <th>0</th>\n",
              "      <td>$ 146.5208</td>\n",
              "    </tr>\n",
              "    <tr>\n",
              "      <th>88</th>\n",
              "      <th>0</th>\n",
              "      <td>$ 263.0</td>\n",
              "    </tr>\n",
              "    <tr>\n",
              "      <th>118</th>\n",
              "      <th>0</th>\n",
              "      <td>$ 247.5208</td>\n",
              "    </tr>\n",
              "    <tr>\n",
              "      <th>195</th>\n",
              "      <th>0</th>\n",
              "      <td>$ 146.5208</td>\n",
              "    </tr>\n",
              "    <tr>\n",
              "      <th>215</th>\n",
              "      <th>0</th>\n",
              "      <td>$ 113.275</td>\n",
              "    </tr>\n",
              "    <tr>\n",
              "      <th>258</th>\n",
              "      <th>0</th>\n",
              "      <td>$ 512.3292</td>\n",
              "    </tr>\n",
              "    <tr>\n",
              "      <th>268</th>\n",
              "      <th>0</th>\n",
              "      <td>$ 153.4625</td>\n",
              "    </tr>\n",
              "    <tr>\n",
              "      <th>269</th>\n",
              "      <th>0</th>\n",
              "      <td>$ 135.6333</td>\n",
              "    </tr>\n",
              "    <tr>\n",
              "      <th>297</th>\n",
              "      <th>0</th>\n",
              "      <td>$ 151.55</td>\n",
              "    </tr>\n",
              "    <tr>\n",
              "      <th>299</th>\n",
              "      <th>0</th>\n",
              "      <td>$ 247.5208</td>\n",
              "    </tr>\n",
              "    <tr>\n",
              "      <th>305</th>\n",
              "      <th>0</th>\n",
              "      <td>$ 151.55</td>\n",
              "    </tr>\n",
              "    <tr>\n",
              "      <th>306</th>\n",
              "      <th>0</th>\n",
              "      <td>$ 110.8833</td>\n",
              "    </tr>\n",
              "    <tr>\n",
              "      <th>307</th>\n",
              "      <th>0</th>\n",
              "      <td>$ 108.9</td>\n",
              "    </tr>\n",
              "    <tr>\n",
              "      <th>311</th>\n",
              "      <th>0</th>\n",
              "      <td>$ 262.375</td>\n",
              "    </tr>\n",
              "    <tr>\n",
              "      <th>318</th>\n",
              "      <th>0</th>\n",
              "      <td>$ 164.8667</td>\n",
              "    </tr>\n",
              "    <tr>\n",
              "      <th>319</th>\n",
              "      <th>0</th>\n",
              "      <td>$ 134.5</td>\n",
              "    </tr>\n",
              "    <tr>\n",
              "      <th>325</th>\n",
              "      <th>0</th>\n",
              "      <td>$ 135.6333</td>\n",
              "    </tr>\n",
              "    <tr>\n",
              "      <th>332</th>\n",
              "      <th>0</th>\n",
              "      <td>$ 153.4625</td>\n",
              "    </tr>\n",
              "    <tr>\n",
              "      <th>334</th>\n",
              "      <th>0</th>\n",
              "      <td>$ 133.65</td>\n",
              "    </tr>\n",
              "    <tr>\n",
              "      <th>337</th>\n",
              "      <th>0</th>\n",
              "      <td>$ 134.5</td>\n",
              "    </tr>\n",
              "    <tr>\n",
              "      <th>341</th>\n",
              "      <th>0</th>\n",
              "      <td>$ 263.0</td>\n",
              "    </tr>\n",
              "    <tr>\n",
              "      <th>373</th>\n",
              "      <th>0</th>\n",
              "      <td>$ 135.6333</td>\n",
              "    </tr>\n",
              "    <tr>\n",
              "      <th>377</th>\n",
              "      <th>0</th>\n",
              "      <td>$ 211.5</td>\n",
              "    </tr>\n",
              "    <tr>\n",
              "      <th>380</th>\n",
              "      <th>0</th>\n",
              "      <td>$ 227.525</td>\n",
              "    </tr>\n",
              "    <tr>\n",
              "      <th>390</th>\n",
              "      <th>0</th>\n",
              "      <td>$ 120.0</td>\n",
              "    </tr>\n",
              "    <tr>\n",
              "      <th>393</th>\n",
              "      <th>0</th>\n",
              "      <td>$ 113.275</td>\n",
              "    </tr>\n",
              "    <tr>\n",
              "      <th>435</th>\n",
              "      <th>0</th>\n",
              "      <td>$ 120.0</td>\n",
              "    </tr>\n",
              "    <tr>\n",
              "      <th>438</th>\n",
              "      <th>0</th>\n",
              "      <td>$ 263.0</td>\n",
              "    </tr>\n",
              "    <tr>\n",
              "      <th>498</th>\n",
              "      <th>0</th>\n",
              "      <td>$ 151.55</td>\n",
              "    </tr>\n",
              "    <tr>\n",
              "      <th>505</th>\n",
              "      <th>0</th>\n",
              "      <td>$ 108.9</td>\n",
              "    </tr>\n",
              "    <tr>\n",
              "      <th>527</th>\n",
              "      <th>0</th>\n",
              "      <td>$ 221.7792</td>\n",
              "    </tr>\n",
              "    <tr>\n",
              "      <th>537</th>\n",
              "      <th>0</th>\n",
              "      <td>$ 106.425</td>\n",
              "    </tr>\n",
              "    <tr>\n",
              "      <th>544</th>\n",
              "      <th>0</th>\n",
              "      <td>$ 106.425</td>\n",
              "    </tr>\n",
              "    <tr>\n",
              "      <th>550</th>\n",
              "      <th>0</th>\n",
              "      <td>$ 110.8833</td>\n",
              "    </tr>\n",
              "    <tr>\n",
              "      <th>557</th>\n",
              "      <th>0</th>\n",
              "      <td>$ 227.525</td>\n",
              "    </tr>\n",
              "    <tr>\n",
              "      <th>581</th>\n",
              "      <th>0</th>\n",
              "      <td>$ 110.8833</td>\n",
              "    </tr>\n",
              "    <tr>\n",
              "      <th>609</th>\n",
              "      <th>0</th>\n",
              "      <td>$ 153.4625</td>\n",
              "    </tr>\n",
              "    <tr>\n",
              "      <th>659</th>\n",
              "      <th>0</th>\n",
              "      <td>$ 113.275</td>\n",
              "    </tr>\n",
              "    <tr>\n",
              "      <th>660</th>\n",
              "      <th>0</th>\n",
              "      <td>$ 133.65</td>\n",
              "    </tr>\n",
              "    <tr>\n",
              "      <th>679</th>\n",
              "      <th>0</th>\n",
              "      <td>$ 512.3292</td>\n",
              "    </tr>\n",
              "    <tr>\n",
              "      <th>689</th>\n",
              "      <th>0</th>\n",
              "      <td>$ 211.3375</td>\n",
              "    </tr>\n",
              "    <tr>\n",
              "      <th>698</th>\n",
              "      <th>0</th>\n",
              "      <td>$ 110.8833</td>\n",
              "    </tr>\n",
              "    <tr>\n",
              "      <th>700</th>\n",
              "      <th>0</th>\n",
              "      <td>$ 227.525</td>\n",
              "    </tr>\n",
              "    <tr>\n",
              "      <th>708</th>\n",
              "      <th>0</th>\n",
              "      <td>$ 151.55</td>\n",
              "    </tr>\n",
              "    <tr>\n",
              "      <th>716</th>\n",
              "      <th>0</th>\n",
              "      <td>$ 227.525</td>\n",
              "    </tr>\n",
              "    <tr>\n",
              "      <th>730</th>\n",
              "      <th>0</th>\n",
              "      <td>$ 211.3375</td>\n",
              "    </tr>\n",
              "    <tr>\n",
              "      <th>737</th>\n",
              "      <th>0</th>\n",
              "      <td>$ 512.3292</td>\n",
              "    </tr>\n",
              "    <tr>\n",
              "      <th>742</th>\n",
              "      <th>0</th>\n",
              "      <td>$ 262.375</td>\n",
              "    </tr>\n",
              "    <tr>\n",
              "      <th>763</th>\n",
              "      <th>0</th>\n",
              "      <td>$ 120.0</td>\n",
              "    </tr>\n",
              "    <tr>\n",
              "      <th>779</th>\n",
              "      <th>0</th>\n",
              "      <td>$ 211.3375</td>\n",
              "    </tr>\n",
              "    <tr>\n",
              "      <th>802</th>\n",
              "      <th>0</th>\n",
              "      <td>$ 120.0</td>\n",
              "    </tr>\n",
              "    <tr>\n",
              "      <th>856</th>\n",
              "      <th>0</th>\n",
              "      <td>$ 164.8667</td>\n",
              "    </tr>\n",
              "  </tbody>\n",
              "</table>\n",
              "</div>"
            ],
            "text/plain": [
              "                    0\n",
              "    match            \n",
              "27  0         $ 263.0\n",
              "31  0      $ 146.5208\n",
              "88  0         $ 263.0\n",
              "118 0      $ 247.5208\n",
              "195 0      $ 146.5208\n",
              "215 0       $ 113.275\n",
              "258 0      $ 512.3292\n",
              "268 0      $ 153.4625\n",
              "269 0      $ 135.6333\n",
              "297 0        $ 151.55\n",
              "299 0      $ 247.5208\n",
              "305 0        $ 151.55\n",
              "306 0      $ 110.8833\n",
              "307 0         $ 108.9\n",
              "311 0       $ 262.375\n",
              "318 0      $ 164.8667\n",
              "319 0         $ 134.5\n",
              "325 0      $ 135.6333\n",
              "332 0      $ 153.4625\n",
              "334 0        $ 133.65\n",
              "337 0         $ 134.5\n",
              "341 0         $ 263.0\n",
              "373 0      $ 135.6333\n",
              "377 0         $ 211.5\n",
              "380 0       $ 227.525\n",
              "390 0         $ 120.0\n",
              "393 0       $ 113.275\n",
              "435 0         $ 120.0\n",
              "438 0         $ 263.0\n",
              "498 0        $ 151.55\n",
              "505 0         $ 108.9\n",
              "527 0      $ 221.7792\n",
              "537 0       $ 106.425\n",
              "544 0       $ 106.425\n",
              "550 0      $ 110.8833\n",
              "557 0       $ 227.525\n",
              "581 0      $ 110.8833\n",
              "609 0      $ 153.4625\n",
              "659 0       $ 113.275\n",
              "660 0        $ 133.65\n",
              "679 0      $ 512.3292\n",
              "689 0      $ 211.3375\n",
              "698 0      $ 110.8833\n",
              "700 0       $ 227.525\n",
              "708 0        $ 151.55\n",
              "716 0       $ 227.525\n",
              "730 0      $ 211.3375\n",
              "737 0      $ 512.3292\n",
              "742 0       $ 262.375\n",
              "763 0         $ 120.0\n",
              "779 0      $ 211.3375\n",
              "802 0         $ 120.0\n",
              "856 0      $ 164.8667"
            ]
          },
          "metadata": {},
          "execution_count": 66
        }
      ]
    },
    {
      "cell_type": "code",
      "metadata": {
        "id": "CtSY2VqGNI8V"
      },
      "source": [
        ""
      ],
      "execution_count": null,
      "outputs": []
    }
  ]
}