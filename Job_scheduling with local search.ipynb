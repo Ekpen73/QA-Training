{
 "cells": [
  {
   "cell_type": "code",
   "execution_count": 1,
   "metadata": {},
   "outputs": [],
   "source": [
    "Job_to_Job = [\n",
    "    [0,1,2,3,4,1.5,3,2.5,5,2],\n",
    "    [1,0,1,2,2,1,2,1.5,3,3],\n",
    "    [2,1,0,3,1,2,3,4,3,3],\n",
    "    [3,2,3,0,2,1.5,4,1,3,2],\n",
    "    [4,2,1,2,0,2,3,3,2,4],\n",
    "    [1.5,1,2,1.5,2,0,1.5,1,3,2],\n",
    "    [3,2,1,4,3,1.5,0,3,1,3],\n",
    "    [2.5,1.5,1,3,4,1,3,0,2.5,2],\n",
    "    [5,3,3,3,2,3,1,2.5,0,3],\n",
    "    [2,3,3,2,4,2,3,2,3,0]\n",
    "]\n",
    "Base_to_Job = [   \n",
    "     [1,2,3,4,5,2,5,4,3,2],\n",
    "     [2,3,1,2,2,1,2,1,3,2],\n",
    "     [3,2,1,1,2,1.5,2,1,2,3],\n",
    "     [4,2,1,2.5,1.5,2,1.5,2.5,2,4]\n",
    "    ]\n",
    "Job_duration = [2,3,6,2.5,2,4,3,6,5,4]  \n",
    "\n",
    "job_allocation = [[1,2,3],\n",
    "                  [4,5],\n",
    "                  [6,7],\n",
    "                  [8,9]]\n",
    "\n"
   ]
  },
  {
   "cell_type": "code",
   "execution_count": 2,
   "metadata": {},
   "outputs": [
    {
     "name": "stdout",
     "output_type": "stream",
     "text": [
      "17\n"
     ]
    }
   ],
   "source": [
    "def calculate_engineer_time(eng_index, eng_jobs):\n",
    "    # https://www.youtube.com/watch?v=OnDr4J2UXSA\n",
    "    time_curr_eng = 0  # hold all the time\n",
    "    time_curr_eng = time_curr_eng + Base_to_Job[eng_index][eng_jobs[0]-1] \n",
    "\n",
    "    for i in range(len(eng_jobs)):\n",
    "        # the time duration of the job is updated to the time\n",
    "        time_curr_eng = time_curr_eng + Job_duration[eng_jobs[i]-1]\n",
    "        if i < len(eng_jobs)-1:\n",
    "            # the time for job to job is updated to the time\n",
    "            time_curr_eng = time_curr_eng + Job_to_Job[eng_jobs[i]-1][eng_jobs[i+1]-1]\n",
    "\n",
    "    time_curr_eng = time_curr_eng + Base_to_Job[eng_index][eng_jobs[-1]-1] \n",
    "    return time_curr_eng\n",
    "engr_one_jobs =job_allocation[0]\n",
    "print(calculate_engineer_time(0,engr_one_jobs))"
   ]
  },
  {
   "cell_type": "code",
   "execution_count": 3,
   "metadata": {},
   "outputs": [
    {
     "data": {
      "text/plain": [
       "[[2, 1, 3], [3, 2, 1], [1, 3, 2]]"
      ]
     },
     "execution_count": 3,
     "metadata": {},
     "output_type": "execute_result"
    }
   ],
   "source": [
    "def getNeighbours(engr_one_jobs):\n",
    "    neighbours = [] # list of all the neighbours\n",
    "    for i in range(len(engr_one_jobs)):# used to navigated all the \n",
    "        for j in range(i + 1, len(engr_one_jobs)): # to get the length of solution\n",
    "            neighbour = engr_one_jobs.copy() # copy of the solutions\n",
    "            # swap to get the neighbours of all solution\n",
    "            neighbour[i] = engr_one_jobs[j] # neighbours of i will be swap with j solution\n",
    "            neighbour[j] = engr_one_jobs[i]\n",
    "            neighbours.append(neighbour) # the neighbours are appeneded  in the list of all the neighbours\n",
    "    return neighbours\n",
    "getNeighbours(engr_one_jobs)"
   ]
  },
  {
   "cell_type": "code",
   "execution_count": 4,
   "metadata": {},
   "outputs": [
    {
     "name": "stdout",
     "output_type": "stream",
     "text": [
      "57.5\n"
     ]
    }
   ],
   "source": [
    "def calculate_total_time(job_allocation):\n",
    "    time = 0                     # The roughtleight as TSP will calsulate the time\n",
    "    for i, eng_jobs in enumerate(job_allocation):\n",
    "        time += calculate_engineer_time(i, eng_jobs)\n",
    "    return time\n",
    "print(calculate_total_time(job_allocation))"
   ]
  },
  {
   "cell_type": "code",
   "execution_count": 5,
   "metadata": {},
   "outputs": [
    {
     "name": "stdout",
     "output_type": "stream",
     "text": [
      "initial solution: [[1, 2, 3]] has total time: 17\n"
     ]
    }
   ],
   "source": [
    "num_engineers = len(job_allocation)\n",
    "# generate an initial point\n",
    "solution = [job_allocation.copy()[0]]\n",
    "max_iter = 10\n",
    "iter = 0\n",
    "total_time = calculate_total_time(solution)\n",
    "\n",
    "while iter < max_iter:  #https://github.com/Ivikassingh/Python-ai-code/blob/master/hillclimbing.py\n",
    "    #print('initial solution: {} has total time: {}'.format(solution, total_time))\n",
    "    neighbors = getNeighbours(solution)\n",
    "    # run the hill climb\n",
    "    for neighbor in neighbors:\n",
    "        # evaluate candidate point\n",
    "        total_time_neighbor = calculate_total_time([neighbor])\n",
    "        # check if we should keep the new point\n",
    "        if total_time_neighbor < total_time:\n",
    "            # store the new point\n",
    "            solution = neighbor\n",
    "            # report progress\n",
    "        total_time = total_time_neighbor\n",
    "    iter += 1\n",
    "print('initial solution: {} has total time: {}'.format(solution, total_time))"
   ]
  },
  {
   "cell_type": "code",
   "execution_count": 6,
   "metadata": {},
   "outputs": [
    {
     "name": "stdout",
     "output_type": "stream",
     "text": [
      "initial solution: [[1, 2, 3]] has total time: 17\n"
     ]
    }
   ],
   "source": [
    "def intra_job_swap(job_alloc): \n",
    "    #create an empty list\n",
    "    new_job_alloc = [] \n",
    "    # job-allocation to loop thru number of job allocation\n",
    "    for i_eng in range(len(job_alloc)):\n",
    "        # Hold the current total time for engineer one jobs calculated with Cal\n",
    "        total_time_i = calculate_total_time([job_alloc[i_eng]])\n",
    "        # pass the neighbours of all the solution thru the get neighbours\n",
    "        neighbors_i = getNeighbours(job_alloc[i_eng])\n",
    "        \n",
    "        solution_i = job_alloc[i_eng]\n",
    "        # loop to evaluates the shuffled neighbours_i, checks the total time of current time \n",
    "        # and records it in solution_i\n",
    "        for neighbor in neighbors_i:\n",
    "            total_time_neighbor = calculate_total_time([neighbor])\n",
    "            if total_time_neighbor < total_time_i: #\n",
    "                solution_i = neighbor\n",
    "                total_time_i = total_time_neighbor\n",
    "        new_job_alloc.append(solution_i)\n",
    "    return new_job_alloc\n",
    "\n",
    "#solution = [job_allocation.copy()[0]]\n",
    "total_time = calculate_total_time(solution)\n",
    "print('initial solution: {} has total time: {}'.format(solution, total_time))\n",
    "# "
   ]
  },
  {
   "cell_type": "code",
   "execution_count": null,
   "metadata": {},
   "outputs": [],
   "source": []
  },
  {
   "cell_type": "code",
   "execution_count": null,
   "metadata": {},
   "outputs": [],
   "source": []
  },
  {
   "cell_type": "markdown",
   "metadata": {},
   "source": [
    "###  Re-Balancing Operator - search for the least cost and insert the new job"
   ]
  },
  {
   "cell_type": "code",
   "execution_count": 7,
   "metadata": {},
   "outputs": [
    {
     "name": "stdout",
     "output_type": "stream",
     "text": [
      "10.5\n"
     ]
    }
   ],
   "source": [
    "eng_index =0\n",
    "#array of jobs for current engineer https://www.youtube.com/watch?v=OnDr4J2UXSA\n",
    "#eng_jobs = job_allocation[eng_index]\n",
    "num_engineers = len(job_allocation)\n",
    "engineer_times = []\n",
    "for eng_index in range(num_engineers):\n",
    "  #array of jobs for current engineer\n",
    "    eng_jobs = job_allocation[eng_index]\n",
    "    # initial the time to 0\n",
    "    time_curr_eng = 0\n",
    "    # Add start time to the time initialized\n",
    "    time_curr_eng = time_curr_eng + Base_to_Job[eng_index][eng_jobs[0]-1] \n",
    "\n",
    "    for i in range(len(eng_jobs)):\n",
    "        #itereates element in eng jobs and add to time\n",
    "        time_curr_eng = time_curr_eng + Job_duration[eng_jobs[i]-1]\n",
    "        if i < len(eng_jobs)-1:\n",
    "            time_curr_eng = time_curr_eng + Job_to_Job[eng_jobs[i]-1][eng_jobs[i+1]-1]\n",
    "\n",
    "    time_curr_eng = time_curr_eng + Base_to_Job[eng_index][eng_jobs[-1]-1] \n",
    "    engineer_times.append(time_curr_eng)\n",
    "#for j in range(len(engineer_times)):\n",
    " #   print(engineer_times[j])\n",
    "#print('The total cost:', sum(engineer_times)) \n",
    "minimum = engineer_times\n",
    "least_cost = min(minimum)\n",
    "print(least_cost)"
   ]
  },
  {
   "cell_type": "code",
   "execution_count": 8,
   "metadata": {},
   "outputs": [
    {
     "data": {
      "text/plain": [
       "19.5"
      ]
     },
     "execution_count": 8,
     "metadata": {},
     "output_type": "execute_result"
    }
   ],
   "source": [
    "#least_solution = [job_allocation.copy()[1]]\n",
    "minimum_time = 0\n",
    "minimum_time = minimum_time + Base_to_Job[eng_index][eng_jobs[1]-1]\n",
    "for i in range(len(eng_jobs)):\n",
    "        #itereates element in eng jobs and add to time\n",
    "    minimum_time = minimum_time+ Job_duration[eng_jobs[i]-1]\n",
    "    if i < len(eng_jobs)-1:\n",
    "        minimum_time =  minimum_time + Job_to_Job[eng_jobs[i]-1][eng_jobs[i+1]-1]\n",
    "    minimum_time = minimum_time + Base_to_Job[eng_index][eng_jobs[1]-1] \n",
    "minimum_time"
   ]
  },
  {
   "cell_type": "code",
   "execution_count": null,
   "metadata": {},
   "outputs": [],
   "source": []
  },
  {
   "cell_type": "code",
   "execution_count": null,
   "metadata": {},
   "outputs": [],
   "source": []
  },
  {
   "cell_type": "code",
   "execution_count": 9,
   "metadata": {},
   "outputs": [
    {
     "name": "stdout",
     "output_type": "stream",
     "text": [
      "initial solution: [[1, 2, 3]] has total time: 17\n"
     ]
    }
   ],
   "source": [
    "num_engineers = len(job_allocation)\n",
    "# generate an initial point\n",
    "solution = [job_allocation.copy()[0]]\n",
    "max_iter = 10\n",
    "iter = 0\n",
    "total_time = calculate_total_time(solution)\n",
    "\n",
    "while iter < max_iter:  #https://github.com/Ivikassingh/Python-ai-code/blob/master/hillclimbing.py\n",
    "    #print('initial solution: {} has total time: {}'.format(solution, total_time))\n",
    "    neighbors = getNeighbours(solution)\n",
    "    # run the hill climb\n",
    "    for neighbor in neighbors:\n",
    "        # evaluate candidate point\n",
    "        total_time_neighbor = calculate_total_time([neighbor])\n",
    "        # check if we should keep the new point\n",
    "        if total_time_neighbor < total_time:\n",
    "            # store the new point\n",
    "            solution = neighbor\n",
    "            # report progress\n",
    "        total_time = total_time_neighbor\n",
    "    iter += 1\n",
    "print('initial solution: {} has total time: {}'.format(solution, total_time))"
   ]
  },
  {
   "cell_type": "code",
   "execution_count": null,
   "metadata": {},
   "outputs": [],
   "source": []
  },
  {
   "cell_type": "code",
   "execution_count": null,
   "metadata": {},
   "outputs": [],
   "source": []
  },
  {
   "cell_type": "markdown",
   "metadata": {},
   "source": [
    "## Random Swap of any two engineers job to determine the minimum of the maximum completion time"
   ]
  },
  {
   "cell_type": "code",
   "execution_count": 10,
   "metadata": {},
   "outputs": [
    {
     "name": "stdout",
     "output_type": "stream",
     "text": [
      "[1, 2, 9] 18\n",
      "[4, 5] 15.5\n",
      "[6, 7] 15.5\n",
      "[8, 3] 20\n"
     ]
    }
   ],
   "source": [
    "import random\n",
    "random.seed(a=42)\n",
    "\n",
    "#chooses two engineers at random, the chooses a job from each engineer to swap\n",
    "def random_allocation_swap(job_allocation):\n",
    "    num_engineers = len(job_allocation)\n",
    "    engineers_to_swap = random.sample(list(range(num_engineers)), 2)\n",
    "    jobs_to_swap = []\n",
    "    job_indices = []\n",
    "\n",
    "  #for each engineer chosen, choose random job to swap  \n",
    "    for eng_index in engineers_to_swap:\n",
    "        job_index = random.randint(0, len(job_allocation[eng_index])-1) #\n",
    "        job_indices.append(job_index)\n",
    "        jobs_to_swap.append(job_allocation[eng_index][job_index])\n",
    "\n",
    "  #do the swap\n",
    "    new_job_allocation = job_allocation.copy()\n",
    "    # swap and insert in  fisrt aray last position\n",
    "    new_job_allocation[engineers_to_swap[0]].remove(jobs_to_swap[0]) #https://www.youtube.com/watch?v=gzds8chALNY\n",
    "    new_job_allocation[engineers_to_swap[0]].insert(job_indices[0], jobs_to_swap[1])\n",
    "    # swap and insert in  last array last position\n",
    "    new_job_allocation[engineers_to_swap[1]].remove(jobs_to_swap[1])\n",
    "    new_job_allocation[engineers_to_swap[1]].insert(job_indices[1], jobs_to_swap[0])\n",
    "\n",
    "    return new_job_allocation\n",
    "next_solution = random_allocation_swap(job_allocation)\n",
    "for jobs in next_solution:\n",
    "    time = calculate_engineer_time(0, jobs)\n",
    "    print(jobs, time)\n",
    "    "
   ]
  },
  {
   "cell_type": "code",
   "execution_count": 11,
   "metadata": {},
   "outputs": [
    {
     "name": "stdout",
     "output_type": "stream",
     "text": [
      "Inter_swap solution: [[1, 2, 9]] has total time: 18\n"
     ]
    }
   ],
   "source": [
    "def random_search(next_solution): \n",
    "    #create an empty list\n",
    "    new_job_allo = [] \n",
    "    # job-allocation to loop thru number of job allocation\n",
    "    for i_eng in range(len(job_allo)):\n",
    "        # Hold the current total time for random jobs calculated with Cal\n",
    "        new_total_time = calculate_total_time([job_allo[i_eng]])\n",
    "        # pass the neighbours of all the solution thru the get neighbours\n",
    "        new_time_i = random_allocation_swap(job_allo[i_eng])\n",
    "        \n",
    "        new_solution_i = job_allo[i_eng]\n",
    "        # loop to evaluates the shuffled neighbours_i, checks the total time of current time \n",
    "        # and records it in solution_i\n",
    "        for time in new_time_i:\n",
    "            total_time = calculate_total_time([time])\n",
    "            if total_time < total_time_i: #\n",
    "                new_solution_i = time\n",
    "                new_total_time_i = total_time\n",
    "        new_job_allo.append(new_solution_i)\n",
    "    return new_job_allo\n",
    "\n",
    "#solution = [job_allocation.copy()[0]]\n",
    "new_total_time = calculate_total_time(solution)\n",
    "print('Inter_swap solution: {} has total time: {}'.format(solution, new_total_time))\n",
    "# "
   ]
  },
  {
   "cell_type": "code",
   "execution_count": 12,
   "metadata": {},
   "outputs": [
    {
     "name": "stdout",
     "output_type": "stream",
     "text": [
      "initial solution: [[1, 2, 9], [4, 5], [6, 7], [8, 3]] has total time: 17\n"
     ]
    }
   ],
   "source": [
    "while iter > max_iter:   #https://github.com/Ivikassingh/Python-ai-code/blob/master/hillclimbing.py\n",
    "   # print('initial solution: {} has total time: {}'.format(solution, total_time))\n",
    "    neighbors = getNeighbours(next_solution)\n",
    "    for neighbor in neighbors:\n",
    "        total_time_neighbor = calculate_total_time([neighbor])\n",
    "        if total_time_neighbor > total_time:\n",
    "            solution = neighbor\n",
    "        total_time = total_time_neighbor\n",
    "   # iter += 1\n",
    "print('initial solution: {} has total time: {}'.format(next_solution, total_time))\n"
   ]
  },
  {
   "cell_type": "code",
   "execution_count": null,
   "metadata": {},
   "outputs": [],
   "source": []
  },
  {
   "cell_type": "code",
   "execution_count": null,
   "metadata": {},
   "outputs": [],
   "source": []
  },
  {
   "cell_type": "code",
   "execution_count": null,
   "metadata": {},
   "outputs": [],
   "source": []
  },
  {
   "cell_type": "code",
   "execution_count": 13,
   "metadata": {},
   "outputs": [
    {
     "data": {
      "text/plain": [
       "([8, 3], 20)"
      ]
     },
     "execution_count": 13,
     "metadata": {},
     "output_type": "execute_result"
    }
   ],
   "source": [
    "new_solutions = jobs,time\n",
    "new_solutions"
   ]
  },
  {
   "cell_type": "code",
   "execution_count": null,
   "metadata": {},
   "outputs": [],
   "source": []
  },
  {
   "cell_type": "code",
   "execution_count": 14,
   "metadata": {},
   "outputs": [
    {
     "name": "stdout",
     "output_type": "stream",
     "text": [
      "[9.67, 6.7]\n",
      "[2, 4]\n"
     ]
    }
   ],
   "source": [
    "scores = [2.619, 3.3, 9.67, 0.1, 6.7, 3.2]\n",
    "\n",
    "min_score_thresh = 5\n",
    "\n",
    "# score is 5 or higher\n",
    "result = []\n",
    "\n",
    "# position in 'scores' list\n",
    "indx = []\n",
    "\n",
    "for i, item in enumerate(scores):\n",
    "    if item > min_score_thresh:\n",
    "        result.append(item)\n",
    "        indx.append(i)\n",
    "\n",
    "x = indx\n",
    "\n",
    "print(result)\n",
    "print(x)"
   ]
  },
  {
   "cell_type": "code",
   "execution_count": null,
   "metadata": {},
   "outputs": [],
   "source": []
  },
  {
   "cell_type": "code",
   "execution_count": 15,
   "metadata": {},
   "outputs": [
    {
     "ename": "NameError",
     "evalue": "name 'intial_solution' is not defined",
     "output_type": "error",
     "traceback": [
      "\u001b[1;31m---------------------------------------------------------------------------\u001b[0m",
      "\u001b[1;31mNameError\u001b[0m                                 Traceback (most recent call last)",
      "\u001b[1;32m<ipython-input-15-faa70e4130b3>\u001b[0m in \u001b[0;36m<module>\u001b[1;34m\u001b[0m\n\u001b[0;32m      6\u001b[0m   \u001b[1;31m#for each engineer chosen, choose random job to swap\u001b[0m\u001b[1;33m\u001b[0m\u001b[1;33m\u001b[0m\u001b[1;33m\u001b[0m\u001b[0m\n\u001b[0;32m      7\u001b[0m \u001b[1;32mfor\u001b[0m \u001b[0meng_index\u001b[0m \u001b[1;32min\u001b[0m \u001b[0mengineers_to_swap\u001b[0m\u001b[1;33m:\u001b[0m\u001b[1;33m\u001b[0m\u001b[1;33m\u001b[0m\u001b[0m\n\u001b[1;32m----> 8\u001b[1;33m     \u001b[1;32mif\u001b[0m \u001b[0meng_index\u001b[0m \u001b[1;33m>\u001b[0m \u001b[0mintial_solution\u001b[0m\u001b[1;33m:\u001b[0m\u001b[1;33m\u001b[0m\u001b[1;33m\u001b[0m\u001b[0m\n\u001b[0m\u001b[0;32m      9\u001b[0m     \u001b[1;31m#job_index = random.randint(0, len(job_allocation[eng_index])-1)\u001b[0m\u001b[1;33m\u001b[0m\u001b[1;33m\u001b[0m\u001b[1;33m\u001b[0m\u001b[0m\n\u001b[0;32m     10\u001b[0m         \u001b[0mjob_indices\u001b[0m\u001b[1;33m.\u001b[0m\u001b[0mappend\u001b[0m\u001b[1;33m(\u001b[0m\u001b[0mjob_index\u001b[0m\u001b[1;33m)\u001b[0m\u001b[1;33m\u001b[0m\u001b[1;33m\u001b[0m\u001b[0m\n",
      "\u001b[1;31mNameError\u001b[0m: name 'intial_solution' is not defined"
     ]
    }
   ],
   "source": [
    "num_engineers = len(job_allocation)\n",
    "engineers_to_swap = random.sample(list(range(num_engineers)), 2)\n",
    "jobs_to_swap = []\n",
    "job_indices = []\n",
    "\n",
    "  #for each engineer chosen, choose random job to swap  \n",
    "for eng_index in engineers_to_swap:\n",
    "    if eng_index > intial_solution:\n",
    "    #job_index = random.randint(0, len(job_allocation[eng_index])-1)\n",
    "        job_indices.append(job_index)\n",
    "        jobs_to_swap.append(job_allocation[eng_index][job_index])\n",
    "\n",
    "  #do the swap\n",
    "    new_job_allocation = job_allocation.copy()\n",
    "    new_job_allocation[engineers_to_swap[0]].remove(jobs_to_swap[0])\n",
    "    new_job_allocation[engineers_to_swap[0]].insert(job_indices[0], jobs_to_swap[1])\n",
    "\n",
    "    new_job_allocation[engineers_to_swap[1]].remove(jobs_to_swap[1])\n",
    "    new_job_allocation[engineers_to_swap[1]].insert(job_indices[1], jobs_to_swap[0])\n"
   ]
  },
  {
   "cell_type": "code",
   "execution_count": null,
   "metadata": {},
   "outputs": [],
   "source": [
    "import random\n",
    "random.seed(a=42)\n",
    "\n",
    "#LOCAL SEARCH ALGORITHM, ONLY SWAP between engineers\n",
    "num_engineers = len(job_allocation)\n",
    "initial_solution = job_allocation.copy()\n",
    "max_iter = 100\n",
    "iter = 0\n",
    "initial_time = calculate_total_time(initial_solution)\n",
    "#while iter < max_iter:"
   ]
  },
  {
   "cell_type": "code",
   "execution_count": null,
   "metadata": {},
   "outputs": [],
   "source": []
  },
  {
   "cell_type": "code",
   "execution_count": null,
   "metadata": {},
   "outputs": [],
   "source": [
    "initial_solution\n",
    "jobs_to_swap = []\n",
    "job_indices = []\n",
    "\n",
    "for i in range(len(initial_solution)-1):\n",
    "        for j in range(i + 1, len(initial_solution)):\n",
    "       # for j in range(i + 1, len(initial_solution)):  \n",
    "            new_job_allocation = job_allocation.copy()\n",
    "            new_job_allocation[initial_solution[0]].remove(jobs_to_swap[0])\n",
    "            new_job_allocation[initial_solution[0]].insert(job_indices[0], jobs_to_swap[1])\n",
    "            new_job_allocation"
   ]
  },
  {
   "cell_type": "code",
   "execution_count": null,
   "metadata": {},
   "outputs": [],
   "source": [
    "def getNeighbours(initial_solution):  #https://www.youtube.com/watch?v=d1lzvynySac&t=1496s\n",
    "    neighbours = []\n",
    "    for i in range(len(initial_solution)-1):\n",
    "        for j in range(i + 1, len(initial_solution)):\n",
    "       # for j in range(i + 1, len(initial_solution)):    \n",
    "            neighbour = engr_one_jobs.copy()\n",
    "            neighbour[i] = engr_one_jobs[j]\n",
    "            neighbour[j] = engr_one_jobs[i]\n",
    "            neighbours.append(neighbour)\n",
    "    return neighbours\n",
    "# get the routelenght or time of all the neighbours\n",
    "for jobs in getNeighbours(engr_one_jobs):\n",
    "    time = calculate_engineer_time(0, jobs)\n",
    "    print(jobs, time)"
   ]
  },
  {
   "cell_type": "code",
   "execution_count": null,
   "metadata": {},
   "outputs": [],
   "source": [
    "#testing permutations for engineer 0\n",
    "eng_index = 0\n",
    "eng_jobs = job_allocation[eng_index]\n",
    "#possible_job_allocations = itertools.permutations(eng_jobs)\n",
    "possible_job_allocations = next_solution\n",
    "#iterate over possible permutations of jobs allocated to this engineer\n",
    "#min_time = \n",
    "for jobs in possible_job_allocations:\n",
    "    time = calculate_engineer_time(0, jobs)\n",
    "    print(jobs, time)"
   ]
  },
  {
   "cell_type": "code",
   "execution_count": null,
   "metadata": {},
   "outputs": [],
   "source": [
    "solution.append(10)\n",
    "solution"
   ]
  },
  {
   "cell_type": "code",
   "execution_count": null,
   "metadata": {},
   "outputs": [],
   "source": [
    "def new_getNeighbours(solution):\n",
    "    solution.append(2,10)\n",
    "    new_neighbours = []\n",
    "    for i in range(len(solution)):\n",
    "        for j in range(i + 1, len(solution)):\n",
    "       # for j in range(i + 1, len(initial_solution)):    \n",
    "            new_neighbour = solution.copy()\n",
    "            new_neighbour[i] = solution[j]\n",
    "            new_neighbour[j] = solution[i]\n",
    "            new_neighbours.append(new_neighbours)\n",
    "    return new_neighbours"
   ]
  },
  {
   "cell_type": "code",
   "execution_count": null,
   "metadata": {},
   "outputs": [],
   "source": [
    "new_getNeighbours(new_neighbours)"
   ]
  },
  {
   "cell_type": "code",
   "execution_count": null,
   "metadata": {},
   "outputs": [],
   "source": []
  },
  {
   "cell_type": "code",
   "execution_count": null,
   "metadata": {},
   "outputs": [],
   "source": []
  },
  {
   "cell_type": "code",
   "execution_count": null,
   "metadata": {},
   "outputs": [],
   "source": []
  },
  {
   "cell_type": "code",
   "execution_count": null,
   "metadata": {},
   "outputs": [],
   "source": []
  },
  {
   "cell_type": "code",
   "execution_count": null,
   "metadata": {},
   "outputs": [],
   "source": []
  },
  {
   "cell_type": "code",
   "execution_count": null,
   "metadata": {},
   "outputs": [],
   "source": []
  },
  {
   "cell_type": "code",
   "execution_count": null,
   "metadata": {},
   "outputs": [],
   "source": [
    "def insertion(array): # Insert Operator\n",
    "\n",
    "    # We start from 1 since the first element is trivially sorted\n",
    "    for index in range(1, len(array)):\n",
    "        currentValue = array[index]\n",
    "        currentPosition = index\n",
    "\n",
    "        # As long as we haven't reached the beginning and there is an element\n",
    "        # in our sorted array larger than the one we're trying to insert - move\n",
    "        # that element to the right\n",
    "        while currentPosition > 0 and array[currentPosition - 1] > currentValue:\n",
    "            array[currentPosition] = array[currentPosition -1]\n",
    "            currentPosition = currentPosition - 1\n",
    "\n",
    "\n",
    "        # We have either reached the beginning of the array or we have found\n",
    "        # an element of the sorted array that is smaller than the element\n",
    "        # we're trying to insert at index currentPosition - 1.\n",
    "        # Either way - we insert the element at currentPosition\n",
    "        array[currentPosition] = currentValue"
   ]
  },
  {
   "cell_type": "code",
   "execution_count": null,
   "metadata": {},
   "outputs": [],
   "source": [
    "solution.append(10)# 10\n",
    "print(solution)"
   ]
  },
  {
   "cell_type": "code",
   "execution_count": null,
   "metadata": {},
   "outputs": [],
   "source": [
    "\n",
    "array = [4, 22, 41, 40, 27, 30, 36, 16, 42, 37, 14, 39, 3, 6, 34, 9, 21, 2, 29, 47]\n",
    "#solution = [4, 22, 41, 40, 27, 30, 36, 16, 42, 37, 14, 39, 3, 6, 34, 9, 21, 2, 29, 47]\n",
    "insertion(array)\n",
    "print(\"sorted array: \" + str(array))"
   ]
  },
  {
   "cell_type": "code",
   "execution_count": null,
   "metadata": {},
   "outputs": [],
   "source": []
  },
  {
   "cell_type": "code",
   "execution_count": null,
   "metadata": {},
   "outputs": [],
   "source": []
  },
  {
   "cell_type": "code",
   "execution_count": null,
   "metadata": {},
   "outputs": [],
   "source": []
  },
  {
   "cell_type": "code",
   "execution_count": null,
   "metadata": {},
   "outputs": [],
   "source": []
  },
  {
   "cell_type": "code",
   "execution_count": null,
   "metadata": {},
   "outputs": [],
   "source": []
  },
  {
   "cell_type": "code",
   "execution_count": null,
   "metadata": {},
   "outputs": [],
   "source": [
    "\n",
    "import random\n",
    "random.seed(a=42)\n",
    "\n",
    "#given job allocation, does local search for all intra-engineer job swaps for each engineer\n",
    "#using the getNeighbours() function\n",
    "def local_search_swap_intra(job_alloc):  \n",
    "    for i_eng in range(len(job_alloc)):\n",
    "        total_time_i = calculate_total_time([job_alloc[i]])\n",
    "    neighbors_i = getNeighbours(job_alloc[i])\n",
    "    solution_i = job_alloc[i]\n",
    "    for neighbor in neighbors_i:\n",
    "        total_time_neighbor = calculate_total_time([neighbor])\n",
    "        if total_time_neighbor < total_time_i:\n",
    "            solution_i = neighbor\n",
    "            total_time_i = total_time_neighbor\n",
    "\n",
    "num_engineers = len(job_allocation)\n",
    "solution = [job_allocation.copy()[0]]\n",
    "max_iter = 3\n",
    "iter = 0\n",
    "total_time = calculate_total_time(solution)\n",
    "print('initial solution: {} has total time: {}'.format(solution, total_time))\n",
    "while iter < max_iter:\n",
    "    neighbors = getNeighbours(solution)\n",
    "    for neighbor in neighbors:\n",
    "        total_time_neighbor = calculate_total_time([neighbor])\n",
    "        if total_time_neighbor < total_time:\n",
    "            solution = neighbor\n",
    "        total_time = total_time_neighbor\n",
    "    iter += 1\n"
   ]
  },
  {
   "cell_type": "code",
   "execution_count": null,
   "metadata": {},
   "outputs": [],
   "source": []
  },
  {
   "cell_type": "code",
   "execution_count": null,
   "metadata": {},
   "outputs": [],
   "source": [
    "def hillClimbing(jobs):\n",
    "    currentSolution =calculate_total_time(jobs)\n",
    "    currentRouteLength = getNeighbours(currentSolution)\n",
    "    neighbours = jos(currentSolution)\n",
    "    bestNeighbour, bestNeighbourRouteLength = getBestNeighbour(jobs, neighbours)\n",
    "    while bestNeighbourRouteLength < currentRouteLength:\n",
    "        currentSolution = bestNeighbour\n",
    "        currentRouteLength = bestNeighbourRouteLength\n",
    "        neighbours = getNeighbours(currentSolution)\n",
    "        bestNeighbour, bestNeighbourRouteLength = getBestNeighbour(jobs, neighbours)\n",
    "\n",
    "    return currentSolution, currentRouteLength   "
   ]
  },
  {
   "cell_type": "code",
   "execution_count": null,
   "metadata": {},
   "outputs": [],
   "source": [
    "import random\n",
    "random.seed(a=42)\n",
    "\n",
    "#given job allocation, does local search for all intra-engineer job swaps for each engineer\n",
    "#using the getNeighbours() function\n",
    "def hillClimbing(job_alloc): \n",
    "    new_job_alloc = [] \n",
    "    for i_eng in range(len(job_alloc)):\n",
    "        total_time_i = calculate_total_time([job_alloc[i_eng]])\n",
    "        neighbors_i = getNeighbours(job_alloc[i_eng])\n",
    "        solution_i = job_alloc[i_eng]\n",
    "        for neighbor in neighbors_i:\n",
    "            total_time_neighbor = calculate_total_time([neighbor])\n",
    "            if total_time_neighbor < total_time_i:\n",
    "                solution_i = neighbor\n",
    "                total_time_i = total_time_neighbor\n",
    "        new_job_alloc.append(solution_i)\n",
    "    return new_job_alloc\n",
    "\n",
    "solution = [job_allocation.copy()[0]]\n",
    "total_time = calculate_total_time(solution)\n",
    "print('initial solution: {} has total time: {}'.format(solution, total_time))\n",
    "\n",
    "new_solution = hillClimbing(solution)\n"
   ]
  },
  {
   "cell_type": "code",
   "execution_count": null,
   "metadata": {},
   "outputs": [],
   "source": [
    "#LOCAL SEARCH ALGORITHM\n",
    "#ONLY FOR ENGINEER 0\n",
    "#ONLY SWAP AROUND JOBS FOR ENGINEER\n",
    "\n",
    "import random\n",
    "random.seed(a=42)\n",
    "\n",
    "#given job allocation, does local search for all intra-engineer job swaps for each engineer\n",
    "#using the getNeighbours() function\n",
    "def local_search_swap_intra(job_alloc): \n",
    "    new_job_alloc = [] \n",
    "    for i_eng in range(len(job_alloc)):\n",
    "        total_time_i = calculate_total_time([job_alloc[i_eng]])\n",
    "        neighbors_i = getNeighbours(job_alloc[i_eng])\n",
    "        solution_i = job_alloc[i_eng]\n",
    "        for neighbor in neighbors_i:\n",
    "            total_time_neighbor = calculate_total_time([neighbor])\n",
    "            if total_time_neighbor < total_time_i:\n",
    "                solution_i = neighbor\n",
    "                total_time_i = total_time_neighbor\n",
    "        new_job_alloc.append(solution_i)\n",
    "    return new_job_alloc\n",
    "\n",
    "solution = [job_allocation.copy()[0]]\n",
    "total_time = calculate_total_time(solution)\n",
    "print('initial solution: {} has total time: {}'.format(solution, total_time))\n",
    "\n",
    "new_solution = local_search_swap_intra(solution)\n"
   ]
  },
  {
   "cell_type": "code",
   "execution_count": null,
   "metadata": {},
   "outputs": [],
   "source": [
    "#LOCAL SEARCH ALGORITHM\n",
    "#ONLY FOR ENGINEER 0\n",
    "#ONLY SWAP AROUND JOBS FOR ENGINEER\n",
    "\n",
    "import random\n",
    "random.seed(a=42)\n",
    "\n",
    "#given job allocation, does local search for all intra-engineer job swaps for each engineer\n",
    "#using the getNeighbours() function\n",
    "def local_search_swap_intra(job_alloc): \n",
    "    new_job_alloc = [] \n",
    "    for i_eng in range(len(job_alloc)):\n",
    "        total_time_i = calculate_total_time([job_alloc[i_eng]])\n",
    "        neighbors_i = getNeighbours(job_alloc[i_eng])\n",
    "        solution_i = job_alloc[i_eng]\n",
    "        for neighbor in neighbors_i:\n",
    "            total_time_neighbor = calculate_total_time([neighbor])\n",
    "            if total_time_neighbor < total_time_i:\n",
    "                solution_i = neighbor\n",
    "                total_time_i = total_time_neighbor\n",
    "        new_job_alloc.append(solution_i)\n",
    "    return new_job_alloc\n",
    "\n",
    "solution = [job_allocation.copy()[0]]\n",
    "total_time = calculate_total_time(solution)\n",
    "print('initial solution: {} has total time: {}'.format(solution, total_time))\n",
    "\n",
    "\n"
   ]
  },
  {
   "cell_type": "code",
   "execution_count": null,
   "metadata": {},
   "outputs": [],
   "source": [
    "total_time"
   ]
  },
  {
   "cell_type": "code",
   "execution_count": null,
   "metadata": {},
   "outputs": [],
   "source": [
    "random.seed(a=42)\n",
    "\n",
    "#chooses two engineers at random, the chooses a job from each engineer to swap\n",
    "def random_allocation_swap(job_allocation):\n",
    "    num_engineers = len(job_allocation)\n",
    "    engineers_to_swap = random.sample(list(range(num_engineers)), 2)\n",
    "    jobs_to_swap = []\n",
    "    job_indices = []\n",
    "\n",
    "  #for each engineer chosen, choose random job to swap  \n",
    "    for eng_index in engineers_to_swap:\n",
    "        job_index = random.randint(0, len(job_allocation[eng_index])-1)\n",
    "        job_indices.append(job_index)\n",
    "        jobs_to_swap.append(job_allocation[eng_index][job_index])\n"
   ]
  },
  {
   "cell_type": "code",
   "execution_count": null,
   "metadata": {},
   "outputs": [],
   "source": []
  }
 ],
 "metadata": {
  "kernelspec": {
   "display_name": "Python 3",
   "language": "python",
   "name": "python3"
  },
  "language_info": {
   "codemirror_mode": {
    "name": "ipython",
    "version": 3
   },
   "file_extension": ".py",
   "mimetype": "text/x-python",
   "name": "python",
   "nbconvert_exporter": "python",
   "pygments_lexer": "ipython3",
   "version": "3.8.5"
  }
 },
 "nbformat": 4,
 "nbformat_minor": 4
}
